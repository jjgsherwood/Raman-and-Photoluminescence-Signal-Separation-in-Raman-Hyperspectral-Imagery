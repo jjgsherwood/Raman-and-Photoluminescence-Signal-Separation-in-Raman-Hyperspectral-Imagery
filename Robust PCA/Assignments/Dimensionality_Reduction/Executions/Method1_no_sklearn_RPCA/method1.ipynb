{
 "cells": [
  {
   "cell_type": "code",
   "execution_count": 1,
   "metadata": {},
   "outputs": [
    {
     "name": "stdout",
     "output_type": "stream",
     "text": [
      "\n",
      "Please be patient, method starting soon...\n"
     ]
    },
    {
     "ename": "ModuleNotFoundError",
     "evalue": "No module named 'PyPDF2'",
     "output_type": "error",
     "traceback": [
      "\u001b[1;31m---------------------------------------------------------------------------\u001b[0m",
      "\u001b[1;31mModuleNotFoundError\u001b[0m                       Traceback (most recent call last)",
      "\u001b[1;32m<ipython-input-1-58e03453b267>\u001b[0m in \u001b[0;36m<module>\u001b[1;34m\u001b[0m\n\u001b[0;32m      6\u001b[0m \u001b[1;32mfrom\u001b[0m \u001b[0mdimreducelib\u001b[0m \u001b[1;32mimport\u001b[0m \u001b[1;33m*\u001b[0m\u001b[1;33m\u001b[0m\u001b[1;33m\u001b[0m\u001b[0m\n\u001b[0;32m      7\u001b[0m \u001b[1;32mfrom\u001b[0m \u001b[0mreadplotlib\u001b[0m \u001b[1;32mimport\u001b[0m \u001b[1;33m*\u001b[0m\u001b[1;33m\u001b[0m\u001b[1;33m\u001b[0m\u001b[0m\n\u001b[1;32m----> 8\u001b[1;33m \u001b[1;32mfrom\u001b[0m \u001b[0mrpcalib\u001b[0m \u001b[1;32mimport\u001b[0m \u001b[1;33m*\u001b[0m\u001b[1;33m\u001b[0m\u001b[1;33m\u001b[0m\u001b[0m\n\u001b[0m\u001b[0;32m      9\u001b[0m \u001b[1;33m\u001b[0m\u001b[0m\n\u001b[0;32m     10\u001b[0m \u001b[1;32mimport\u001b[0m \u001b[0mcopy\u001b[0m\u001b[1;33m\u001b[0m\u001b[1;33m\u001b[0m\u001b[0m\n",
      "\u001b[1;32m~\\Desktop\\Robust PCA\\Assignments\\Dimensionality_Reduction\\Executions\\Method1_no_sklearn_RPCA\\rpcalib.py\u001b[0m in \u001b[0;36m<module>\u001b[1;34m\u001b[0m\n\u001b[0;32m     18\u001b[0m \u001b[1;32mimport\u001b[0m \u001b[0mnumpy\u001b[0m \u001b[1;32mas\u001b[0m \u001b[0mnp\u001b[0m\u001b[1;33m,\u001b[0m \u001b[0mmatplotlib\u001b[0m\u001b[1;33m.\u001b[0m\u001b[0mpyplot\u001b[0m \u001b[1;32mas\u001b[0m \u001b[0mplt\u001b[0m\u001b[1;33m,\u001b[0m \u001b[0mpandas\u001b[0m \u001b[1;32mas\u001b[0m \u001b[0mpd\u001b[0m\u001b[1;33m,\u001b[0m \u001b[0mos\u001b[0m\u001b[1;33m\u001b[0m\u001b[1;33m\u001b[0m\u001b[0m\n\u001b[0;32m     19\u001b[0m \u001b[1;33m\u001b[0m\u001b[0m\n\u001b[1;32m---> 20\u001b[1;33m \u001b[1;32mfrom\u001b[0m \u001b[0mPyPDF2\u001b[0m \u001b[1;32mimport\u001b[0m \u001b[0mPdfFileMerger\u001b[0m\u001b[1;33m\u001b[0m\u001b[1;33m\u001b[0m\u001b[0m\n\u001b[0m\u001b[0;32m     21\u001b[0m \u001b[1;32mfrom\u001b[0m \u001b[0mrandom\u001b[0m \u001b[1;32mimport\u001b[0m \u001b[0mchoices\u001b[0m\u001b[1;33m\u001b[0m\u001b[1;33m\u001b[0m\u001b[0m\n\u001b[0;32m     22\u001b[0m \u001b[1;33m\u001b[0m\u001b[0m\n",
      "\u001b[1;31mModuleNotFoundError\u001b[0m: No module named 'PyPDF2'"
     ]
    }
   ],
   "source": [
    "# Method (the how to use RPCA for dimensionality reduction) found in the link below:\n",
    "# https://stackoverflow.com/questions/40721260/how-to-use-robust-pca-output-as-principal-component-eigenvectors-from-traditio\n",
    "\n",
    "print('\\nPlease be patient, method starting soon...')\n",
    "\n",
    "from dimreducelib import *\n",
    "from readplotlib import *\n",
    "from rpcalib import *\n",
    "\n",
    "import copy\n",
    "\n",
    "def method1(filename, percentage_of_variance=85):\n",
    "    \"\"\"\n",
    "    ==============\n",
    "    Specifications\n",
    "    ==============\n",
    "    \n",
    "    Parameters\n",
    "    ----------\n",
    "    filename: the input file\n",
    "    percentage_of_variance: must be numerical, domain: [0, 100] (default is 85%)\n",
    "    \n",
    "    Function\n",
    "    --------\n",
    "            - Performs RPCA (Robust PCA), then PCA in the L matrix result of the RPCA.\n",
    "            - Then performs the elbow method for deciding the number of components for\n",
    "              the input percentage of variance explained (percentage_of_variance).\n",
    "            - Saves the plot of the elbow method for the first 20 principal components\n",
    "              in a PDF format file, the file created is called Inspect_PCAs.pdf\n",
    "    Returns\n",
    "    -------\n",
    "            - number of components that suffice to achieve the percentage_of_variance\n",
    "    \"\"\"\n",
    "    # Get the intensities as array:\n",
    "    X = get_intensities(filename)\n",
    "    \n",
    "    PoV = copy.deepcopy(percentage_of_variance)\n",
    "    \n",
    "    # Exception handling:\n",
    "    if isinstance(PoV, int) or isinstance(PoV, float):\n",
    "        pass\n",
    "    else:\n",
    "        raise Exception(\"percentage_of_variance must be numerical (float or int)\")\n",
    "        \n",
    "    if 0 <= PoV <= 100:\n",
    "        pass\n",
    "    else:\n",
    "        raise Exception(\"percentage_of_variance must be a numerical value in domain [0, 100]\\n\\n Please call again properly!\")\n",
    "\n",
    "    # R_pca class initialization:\n",
    "    rpca = R_pca(X.T)\n",
    "    print(\"\\nPerforming RPCA in the data...\\n\")\n",
    "    L, S = rpca.fit(max_iter=10000, iter_print=250)\n",
    "    print(\"\\nPerforming PCA in the L matrix result of RPCA...\\n\")\n",
    "    rcomp, revals, revecs = pca(L)\n",
    "    # print(\"Normalised robust eigenvalues: %s\" % (revals/np.sum(revals),))\n",
    "    \n",
    "    # Truthness check for the eigenvalues result of the pca() function:\n",
    "    if np.all(np.equal(np.sort(revals)[::-1], revals)):\n",
    "        pass\n",
    "    else:\n",
    "        print('Failure: the PCA function did not return sorted the eigenvalues...\\n')\n",
    "\n",
    "    ## What percentage of variance the 20 first principal components cover ##\n",
    "    elbow_method(revals[:20]) # creates the plot and saves it as PDF\n",
    "\n",
    "    ## Deciding how many components ##\n",
    "    for i in range(revals.shape[0]):\n",
    "\n",
    "        if np.sum((revals[:i]/np.sum(revals))*100) > PoV:\n",
    "            num_of_components = i+1\n",
    "            break\n",
    "            \n",
    "    return num_of_components\n",
    "\n",
    "file = 'liver-norm_3map.txt'\n",
    "\n",
    "# Let's assume we wish to keep the 95% of variance:\n",
    "print(\"\\nNumber of principal components to achieve 95% of variance: \",\n",
    "      method1(filename=file, percentage_of_variance=95), '\\n')"
   ]
  },
  {
   "cell_type": "code",
   "execution_count": null,
   "metadata": {},
   "outputs": [],
   "source": []
  }
 ],
 "metadata": {
  "kernelspec": {
   "display_name": "Python 3",
   "language": "python",
   "name": "python3"
  },
  "language_info": {
   "codemirror_mode": {
    "name": "ipython",
    "version": 3
   },
   "file_extension": ".py",
   "mimetype": "text/x-python",
   "name": "python",
   "nbconvert_exporter": "python",
   "pygments_lexer": "ipython3",
   "version": "3.7.6"
  }
 },
 "nbformat": 4,
 "nbformat_minor": 2
}
