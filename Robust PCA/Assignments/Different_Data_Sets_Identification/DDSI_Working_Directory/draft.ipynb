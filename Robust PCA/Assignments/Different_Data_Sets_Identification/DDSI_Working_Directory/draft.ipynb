{
 "cells": [
  {
   "cell_type": "code",
   "execution_count": null,
   "metadata": {},
   "outputs": [],
   "source": [
    "import numpy as np, pandas as pd, matplotlib.pyplot as plt\n",
    "\n",
    "## Using open (i.e. default libraries):\n",
    "\n",
    "# Reading the file:\n",
    "with open('liver-norm_3map.txt') as f:\n",
    "    data = f.read()\n",
    "\n",
    "tmp = [x.split(' ') for x in data.replace('\\t', ' ').split('\\n')[:-1]]\n",
    "\n",
    "arr = np.array(tmp)\n",
    "\n",
    "X = list(map(float, list(arr[:,1])[1:]))\n",
    "Y = list(map(float, list(arr[:,0])[1:]))\n",
    "Z = [float(i) for i in tmp[0][2:].copy()]\n",
    "\n",
    "## Using pandas (more specifically dataframes from pandas library):\n",
    "\n",
    "df = pd.read_csv('liver-norm_3map.txt', sep = '\\t')\n",
    "\n",
    "X2 = [round(i, 5) for i in df[df.columns[1]].to_list()]\n",
    "Y2 = df[df.columns[0]].to_list()\n",
    "\n",
    "# Z2 = [float(i) for i in df.columns[2:].to_list()]\n",
    "Z2 = list(map(float, df.columns[2:].to_list()))\n",
    "\n",
    "if not all([X == X2, Y == Y2, Z == Z2]):\n",
    "    print(\"It didn't work...\")\n",
    "\n",
    "# df"
   ]
  },
  {
   "cell_type": "code",
   "execution_count": null,
   "metadata": {},
   "outputs": [],
   "source": [
    "# Example: (x, y) --> (-18.04410, -25.4365), i.e. the spectrum of the 1st point:\n",
    "\n",
    "tmp = df.loc[[0]].values.tolist()[0][2:]\n",
    "\n",
    "tmp_df = pd.DataFrame({'Spectrum': tmp})\n",
    "#df.head()\n",
    "\n",
    "tmp_df.plot(kind = 'line', xticks = [], figsize = (15, 10), color = 'blue')\n",
    "\n",
    "plt.title('Example: 1st point: (-18.04410, -25.4365, Z)', fontsize = 22.88)\n",
    "\n",
    "plt.legend(fontsize = 18)\n",
    "\n",
    "plt.show()\n",
    "\n",
    "# Couldn't make xticks to be of range(400, 2000, 200), so used none..."
   ]
  },
  {
   "cell_type": "code",
   "execution_count": null,
   "metadata": {},
   "outputs": [],
   "source": [
    "# Example: (x, y) --> (2.16288, -25.4365), i.e. spectrum for the 5th point:\n",
    "\n",
    "tmp = df.loc[[4]].values.tolist()[0][2:]\n",
    "\n",
    "tmp_df = pd.DataFrame({'Spectrum': tmp})\n",
    "#df.head()\n",
    "\n",
    "tmp_df.plot(kind = 'line', xticks = [], figsize = (15, 10), color = 'maroon')\n",
    "\n",
    "plt.title('Example: 5th point: (2.16288, -25.4365, Z)', fontsize = 22.88)\n",
    "\n",
    "plt.legend(fontsize = 18)\n",
    "\n",
    "plt.show()"
   ]
  },
  {
   "cell_type": "code",
   "execution_count": null,
   "metadata": {},
   "outputs": [],
   "source": [
    "## All spectra:\n",
    "\n",
    "# Removing the first 2 columns, i.e. Y, X and then getting the transpose dataframe:\n",
    "df_intensities = df.drop(df.columns[:2], axis = 1).T\n",
    "\n",
    "# Can be easily turned to matrix/array as: arr = df_intensities.T.values\n",
    "# Dimensions: dims = arr.shape --> (27, 979)\n",
    "\n",
    "df_intensities.plot(figsize = (15, 12), legend = False)\n",
    "\n",
    "plt.title('All Spectra in One Graph', fontsize = 30)\n",
    "\n",
    "plt.savefig('Spectra.pdf', dpi = 2500) # usage for higher (better) resolution\n",
    "\n",
    "plt.show()"
   ]
  },
  {
   "cell_type": "code",
   "execution_count": null,
   "metadata": {},
   "outputs": [],
   "source": [
    "# Alternatively, without having to use pandas.DataFrame.plot,\n",
    "# and, also, with xticks 400, 600, ..., 1800 available:\n",
    "\n",
    "# e.g. (x, y) --> (2.16288, -25.4365), i.e. the 5th point\n",
    "\n",
    "fig, ax = plt.subplots()\n",
    "\n",
    "ax.plot(Z, tmp, color = 'darkred', linewidth = 0.58, label = 'Spectrum')\n",
    "\n",
    "fig.set_dpi(588)\n",
    "\n",
    "plt.title('Spectrum in Graph Example', fontsize = 12)\n",
    "\n",
    "plt.legend(fontsize = 8, loc = 'best')\n",
    "\n",
    "\n",
    "plt.show()"
   ]
  },
  {
   "cell_type": "code",
   "execution_count": null,
   "metadata": {},
   "outputs": [],
   "source": []
  },
  {
   "cell_type": "code",
   "execution_count": null,
   "metadata": {},
   "outputs": [],
   "source": [
    "from rpcalib import *\n",
    "\n",
    "file = 'liver-norm_3map.txt'\n",
    "plot_spectra(file)\n",
    "plt.show()\n",
    "data = get_intensities(file)"
   ]
  },
  {
   "cell_type": "code",
   "execution_count": null,
   "metadata": {},
   "outputs": [],
   "source": [
    "# Performing RPCA (dganguli's code):\n",
    "rpca = R_pca(data)\n",
    "L, S = rpca.fit(max_iter=10000, iter_print=100)"
   ]
  },
  {
   "cell_type": "code",
   "execution_count": null,
   "metadata": {},
   "outputs": [],
   "source": [
    "import rpcalib\n",
    "dir(rpcalib)"
   ]
  },
  {
   "cell_type": "code",
   "execution_count": null,
   "metadata": {},
   "outputs": [],
   "source": []
  },
  {
   "cell_type": "code",
   "execution_count": null,
   "metadata": {},
   "outputs": [],
   "source": [
    "# Plotting:\n",
    "rpca.plot_fit()"
   ]
  },
  {
   "cell_type": "code",
   "execution_count": null,
   "metadata": {},
   "outputs": [],
   "source": [
    "rpca.plot_fit_one_plot()"
   ]
  },
  {
   "cell_type": "code",
   "execution_count": null,
   "metadata": {},
   "outputs": [],
   "source": [
    "rpca.plot_four_low_rank_randomly()"
   ]
  },
  {
   "cell_type": "code",
   "execution_count": null,
   "metadata": {},
   "outputs": [],
   "source": [
    "rpca.plot_sparse_only()"
   ]
  },
  {
   "cell_type": "code",
   "execution_count": null,
   "metadata": {},
   "outputs": [],
   "source": [
    "rpca.plot_low_rank_only()"
   ]
  }
 ],
 "metadata": {
  "kernelspec": {
   "display_name": "Python 3",
   "language": "python",
   "name": "python3"
  },
  "language_info": {
   "codemirror_mode": {
    "name": "ipython",
    "version": 3
   },
   "file_extension": ".py",
   "mimetype": "text/x-python",
   "name": "python",
   "nbconvert_exporter": "python",
   "pygments_lexer": "ipython3",
   "version": "3.6.9"
  }
 },
 "nbformat": 4,
 "nbformat_minor": 2
}
