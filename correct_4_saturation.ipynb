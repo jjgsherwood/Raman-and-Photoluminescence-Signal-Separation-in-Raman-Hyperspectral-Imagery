{
 "cells": [
  {
   "cell_type": "code",
   "execution_count": 8,
   "metadata": {},
   "outputs": [],
   "source": [
    "import numpy as np\n",
    "import copy\n",
    "import pickle\n",
    "import matplotlib.pyplot as plt\n",
    "import os"
   ]
  },
  {
   "cell_type": "code",
   "execution_count": 4,
   "metadata": {},
   "outputs": [],
   "source": [
    "# file_location = \"../data/Raman_Mouse/cosmic_ray_removed/\"\n",
    "file_location = \"../data/Green_excitation/cosmic_ray_removed/\"\n",
    "filenames = np.load(f\"{file_location}FileNames.npy\")\n",
    "\n",
    "data = []\n",
    "for f in filenames:\n",
    "    data.append(np.load(f\"{file_location}{f}\"))\n",
    "data = np.array(data)\n"
   ]
  },
  {
   "cell_type": "code",
   "execution_count": 5,
   "metadata": {},
   "outputs": [],
   "source": [
    "def fix_saturation(img, saturation_points):\n",
    "    img2 = copy.copy(img)\n",
    "    \n",
    "    for x,y in saturation_points:\n",
    "        neighborhood = []\n",
    "        for i in range(-1,2):\n",
    "            for j in range(-1,2):\n",
    "                if (img[x+i,y+j] == 0).any():\n",
    "                    continue\n",
    "                neighborhood.append(img[x+i,y+j])\n",
    "                plt.plot(img[x+i,y+j])\n",
    "            \n",
    "        new = np.mean(neighborhood, 0)\n",
    "        img2[x,y] = new\n",
    "        \n",
    "        print(x,y)\n",
    "        plt.plot(new, label='new')\n",
    "        plt.legend()\n",
    "        plt.show()\n",
    "    return img2\n",
    "\n",
    "def find_saturation(img):\n",
    "    X,Y,_ = np.where(img == 0)\n",
    "    saturation_points = set(zip(X,Y))\n",
    "    \n",
    "    if not saturation_points:\n",
    "        return img\n",
    "    \n",
    "    print(f\"saturation points {saturation_points}\")\n",
    "    \n",
    "    return fix_saturation(img, saturation_points)\n",
    "    \n",
    "    "
   ]
  },
  {
   "cell_type": "code",
   "execution_count": 9,
   "metadata": {},
   "outputs": [
    {
     "name": "stdout",
     "output_type": "stream",
     "text": [
      "ML-MoS2-532-LP10-2-3-50X.npy\n"
     ]
    }
   ],
   "source": [
    "file_location2 = f\"{'/'.join(file_location.split('/')[:-2])}/CRN_saturation_removed/\"\n",
    "os.makedirs(file_location2, exist_ok=True)\n",
    "\n",
    "for i, img in enumerate(data):\n",
    "    print(filenames[i])\n",
    "    \n",
    "    img2 = find_saturation(img)\n",
    "    \n",
    "    np.save(f'{file_location2}{filenames[i].split(\"/\")[-1].split(\".\")[0]}', img2) \n",
    "    "
   ]
  },
  {
   "cell_type": "code",
   "execution_count": 10,
   "metadata": {},
   "outputs": [],
   "source": [
    "for f in filenames:\n",
    "    wavelength = np.load(f\"{file_location}{f.split('.')[0]}_wavelength.npy\")\n",
    "    np.save(f'{file_location2}{f.split(\"/\")[-1].split(\".\")[0]}_wavelength.npy', wavelength) \n",
    "\n",
    "np.save(f'{file_location2}FileNames', filenames)  \n",
    "\n"
   ]
  },
  {
   "cell_type": "code",
   "execution_count": null,
   "metadata": {},
   "outputs": [],
   "source": []
  }
 ],
 "metadata": {
  "kernelspec": {
   "display_name": "Python 3",
   "language": "python",
   "name": "python3"
  },
  "language_info": {
   "codemirror_mode": {
    "name": "ipython",
    "version": 3
   },
   "file_extension": ".py",
   "mimetype": "text/x-python",
   "name": "python",
   "nbconvert_exporter": "python",
   "pygments_lexer": "ipython3",
   "version": "3.7.6"
  }
 },
 "nbformat": 4,
 "nbformat_minor": 5
}
