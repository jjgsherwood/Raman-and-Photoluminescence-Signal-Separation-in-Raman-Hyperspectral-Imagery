{
 "cells": [
  {
   "cell_type": "code",
   "execution_count": null,
   "id": "df30b765",
   "metadata": {},
   "outputs": [],
   "source": [
    "import numpy as np\n",
    "import matplotlib.pyplot as plt\n",
    "import copy\n",
    "import random\n",
    "\n",
    "plt.rcParams['figure.figsize'] = (15.0, 10.0)"
   ]
  },
  {
   "cell_type": "code",
   "execution_count": null,
   "id": "d7bbb534",
   "metadata": {},
   "outputs": [],
   "source": [
    "file_location = \"../data/Raman_Mouse/approximated/\"\n",
    "file_location2 = \"../data/Raman_Mouse/preprocess_Vassilis/\"\n",
    "\n",
    "filenames = np.load(f\"{file_location}FileNames.npy\")\n",
    "filenames2 = np.load(f\"{file_location2}FileNames.npy\")\n",
    "data = []\n",
    "data2 = []\n",
    "for f in filenames:\n",
    "    data2.append(np.load(f\"{file_location2}{f.split('.')[0]}_f_Reni.npy\"))\n",
    "    data.append(np.load(f\"{file_location}{f.split('.')[0]}_raman.npy\"))\n"
   ]
  },
  {
   "cell_type": "code",
   "execution_count": null,
   "id": "91f1db91",
   "metadata": {},
   "outputs": [],
   "source": [
    "# assume linear increase in wavelength \n",
    "wavelength = np.load(f\"{file_location}Wavenumbers.npy\")\n",
    "wavelength2 = np.load(f\"{file_location2}{filenames2[0].split('.')[0]}_wavelength.npy\")\n",
    "shape = data[0].shape\n",
    "\n",
    "# raman_data = []\n",
    "# photo_data = []\n",
    "# for x in data:\n",
    "#     tmp = copy.copy(x.reshape(-1, x.shape[-1]))\n",
    "# #     tmp1 = GSP.smoothing(tmp, smooth=5, transition=10, spike_width=15)\n",
    "#     tmp1, tmp2 = GSP.split_Raman_af(GSP.smoothing(tmp, smooth=5, transition=10, spike_width=15), wavelength, 7)\n",
    "#     raman_data.append(tmp1)\n",
    "#     photo_data.append(tmp2)"
   ]
  },
  {
   "cell_type": "code",
   "execution_count": null,
   "id": "e2ef50ba",
   "metadata": {},
   "outputs": [],
   "source": [
    "# #Smoothing\n",
    "# x=random.randint(0,24)\n",
    "# y=random.randint(0,149)\n",
    "# print(x,y)\n",
    "\n",
    "# plt.plot(wavelength, raman_data[0][x+y*25])\n",
    "# plt.plot(wavelength, data[0][y,x], alpha=0.3)\n",
    "# plt.show()"
   ]
  },
  {
   "cell_type": "code",
   "execution_count": null,
   "id": "dd02bd2e",
   "metadata": {},
   "outputs": [],
   "source": [
    "x=random.randint(0,24)\n",
    "y=random.randint(0,149)\n",
    "i=random.randint(0,50)\n",
    "print(i,x,y)\n",
    "\n",
    "plt.plot(wavelength, data[i][y,x], label='new')\n",
    "plt.plot(wavelength2[:674], data2[i][y,x][:674], alpha=0.5, label='old')\n",
    "plt.legend()\n",
    "plt.show()"
   ]
  },
  {
   "cell_type": "code",
   "execution_count": null,
   "id": "29c2de7c",
   "metadata": {},
   "outputs": [],
   "source": [
    "# #splitting\n",
    "# x=random.randint(0,24)\n",
    "# y=random.randint(0,149)\n",
    "# print(x,y)\n",
    "\n",
    "# plt.plot(wavelength, raman_data[0][x+y*25])\n",
    "# plt.plot(wavelength, photo_data[0][x+y*25])\n",
    "# plt.plot(wavelength, data[0][y,x])\n",
    "# plt.plot(wavelength, data[0][y,x]-photo_data[0][x+y*25]-raman_data[0][x+y*25])\n",
    "# plt.show()"
   ]
  },
  {
   "cell_type": "code",
   "execution_count": null,
   "id": "8111f68d",
   "metadata": {},
   "outputs": [],
   "source": [
    "# for i in range(0,25*150, 37):\n",
    "#     plt.plot(wavelength, raman_data[0][i])\n"
   ]
  },
  {
   "cell_type": "code",
   "execution_count": null,
   "id": "c7cc8290",
   "metadata": {},
   "outputs": [],
   "source": []
  }
 ],
 "metadata": {
  "kernelspec": {
   "display_name": "Python 3",
   "language": "python",
   "name": "python3"
  },
  "language_info": {
   "codemirror_mode": {
    "name": "ipython",
    "version": 3
   },
   "file_extension": ".py",
   "mimetype": "text/x-python",
   "name": "python",
   "nbconvert_exporter": "python",
   "pygments_lexer": "ipython3",
   "version": "3.8.8"
  }
 },
 "nbformat": 4,
 "nbformat_minor": 5
}
