{
 "cells": [
  {
   "cell_type": "code",
   "execution_count": 5,
   "metadata": {},
   "outputs": [
    {
     "data": {
      "text/plain": [
       "'\\nInterpolating to a constant wavenumber step (lowest as possible)\\nMake all images the same wavelength.\\n'"
      ]
     },
     "execution_count": 5,
     "metadata": {},
     "output_type": "execute_result"
    }
   ],
   "source": [
    "import numpy as np\n",
    "import pandas as pd\n",
    "import matplotlib.pyplot as plt\n",
    "import glob\n",
    "import pickle\n",
    "import os.path as path\n",
    "plt.rcParams['figure.figsize'] = (10.0, 8.0)\n",
    "\n",
    "\n",
    "\"\"\"\n",
    "Interpolating to a constant wavenumber step (lowest as possible)\n",
    "Make all images the same wavelength.\n",
    "\"\"\""
   ]
  },
  {
   "cell_type": "code",
   "execution_count": 20,
   "metadata": {
    "scrolled": false
   },
   "outputs": [
    {
     "name": "stdout",
     "output_type": "stream",
     "text": [
      "0 Liver_map_150z25_60s_#12.npy\n",
      "1 Muscle_map_150z25_60s_#34.npy\n",
      "2 Kidney_map_150z25_60s_#45.npy\n",
      "3 Kidney_map_150z25_60s_#43.npy\n",
      "4 Liver_map_150x25_60s_#13.npy\n",
      "5 Muscle_map_150z25_60s_#27.npy\n",
      "6 Kidney_map_150z25_60s_#39.npy\n",
      "7 Liver_map_150z25_60s_#2.npy\n",
      "8 Muscle_map_150z25_60s_#19.npy\n",
      "9 Liver_map_150z25_60s_#01.npy\n",
      "10 Liver_map_150z25_60s_#03.npy\n",
      "11 Muscle_map_150z25_60s_#25.npy\n",
      "12 Kidney_map_150z25_60s_#36.npy\n",
      "13 Liver_map_150x25_60s_#9.npy\n",
      "14 Liver_map_150z25_60s_#8.npy\n",
      "15 Muscle_map_150z25_60s_#20.npy\n",
      "16 Kidney_map_150z25_60s_#47.npy\n",
      "17 Liver_map_150z25_60s_#15.npy\n",
      "18 Muscle_map_150z25_60s_#30.npy\n",
      "19 Muscle_map_150z25_60s_#21.npy\n",
      "20 Muscle_map_150z25_60s_#32.npy\n",
      "21 Liver_map_150z25_60s_#14.npy\n",
      "22 Liver_map_150z25_60s_#6.npy\n",
      "23 Kidney_map_150z25_60s_#37.npy\n",
      "24 Muscle_map_150z25_60s_#22.npy\n",
      "25 Muscle_map_150z25_60s_#24.npy\n",
      "26 Muscle_map_150z25_60s_#28.npy\n",
      "27 Kidney_map_150z25_60s_#40.npy\n",
      "28 Kidney_map_150z25_60s_#38.npy\n",
      "29 Muscle_map_150z25_60s_#18.npy\n",
      "30 Muscle_map_150z25_60s_#29.npy\n",
      "31 Muscle_map_150z25_60s_#33.npy\n",
      "32 Kidney_map_150z25_60s_#51.npy\n",
      "33 Muscle_map_150z25_60s_#31.npy\n",
      "34 Liver_map_150z25_60s_#11.npy\n",
      "35 Liver_map_150z25_60s_#17.npy\n",
      "36 Liver_map_150x25_60s_#7.npy\n",
      "37 Kidney_map_150z25_60s_#50.npy\n",
      "38 Kidney_map_150z25_60s_#44.npy\n",
      "39 Liver_map_150x25_60s_#10.npy\n",
      "40 Muscle_map_150z25_60s_#23.npy\n",
      "41 Kidney_map_150z25_60s_#48.npy\n",
      "42 Kidney_map_150z25_60s_#42.npy\n",
      "43 Muscle_map_150z25_60s_#26.npy\n",
      "44 Liver_map_150z25_60s_#16.npy\n",
      "45 Liver_map_150z25_60s_#05.npy\n",
      "46 Kidney_map_150z25_60s_#49.npy\n",
      "47 Kidney_map_150z25_60s_#46.npy\n",
      "48 Kidney_map_150z25_60s_#41.npy\n",
      "49 Liver_map_150z25_60s_#4.npy\n",
      "50 Kidney_map_150z25_60s_#35.npy\n"
     ]
    }
   ],
   "source": [
    "filename_lst = []\n",
    "file_location = '../data/Raman_Mouse/'\n",
    "for i, file in enumerate(glob.glob(f'{file_location}raw/*')):\n",
    "    filename_lst.append(file.split('/')[-1].split('.')[0] + '.npy')\n",
    "    print(i, filename_lst[-1])\n",
    "\n",
    "    if path.exists(f'{file_location}{file.split(\"/\")[-1].split(\".\")[0]}.npy') and i != 0:\n",
    "        continue\n",
    "    \n",
    "    df = pd.read_csv(file, delimiter='\\t', skipinitialspace=True, header=0, skiprows=[])\n",
    "    data = df.to_numpy()[:,:4]\n",
    "\n",
    "    if i == 0:\n",
    "        X = np.array(sorted(list(np.unique(data[:,0]))))\n",
    "        Y = np.array(sorted(list(np.unique(data[:,1]))))\n",
    "        X_0 = X - X[0]\n",
    "        Y_0 = Y - Y[0]\n",
    "        Wavelength = sorted(list(np.unique(data[:,2])))\n",
    "        np.save(f'{file_location}X_coordinates', X) \n",
    "        np.save(f'{file_location}Y_coordinates', Y)\n",
    "    else:\n",
    "        try:\n",
    "            X = np.array(sorted(list(np.unique(data[:,0]))))\n",
    "            Y = np.array(sorted(list(np.unique(data[:,1]))))\n",
    "            x_0 = X - X[0]\n",
    "            y_0 = Y - Y[0]\n",
    "            assert (X_0 == x_0).all(), f\"X is not equal for file {file}\"\n",
    "            assert (Y_0 == y_0).all(), f\"Y is not equal for file {file}\"\n",
    "        except AssertionError:\n",
    "            print(\"X difference:\", X_0 - x_0)\n",
    "            print(\"Y difference:\", Y_0 - y_0)\n",
    "        except AttributeError:\n",
    "            print(\"Corrupted File\")\n",
    "            continue\n",
    "\n",
    "    if i==0 and path.exists(f'{file_location}{file.split(\"/\")[-1].split(\".\")[0]}.npy'):\n",
    "        continue\n",
    "\n",
    "    wavelength = sorted(list(np.unique(data[:,2])))\n",
    "    np.save(f'{file_location}{file.split(\"/\")[-1].split(\".\")[0]}_wavelength', wavelength) \n",
    "    \n",
    "    # detected if a point is missing (the value is than -100)\n",
    "    img = np.zeros((len(X), len(Y), len(wavelength)), dtype=np.float64) - 100\n",
    "\n",
    "    for d in data:\n",
    "        i = list(X).index(d[0])\n",
    "        j = list(Y).index(d[1])\n",
    "        w = wavelength.index(d[2])\n",
    "        img[i,j,w] = d[3]\n",
    "    np.save(f'{file_location}{file.split(\"/\")[-1].split(\".\")[0]}', img) \n",
    "\n",
    "np.save(f'{file_location}FileNames', filename_lst)"
   ]
  },
  {
   "cell_type": "code",
   "execution_count": 22,
   "metadata": {},
   "outputs": [],
   "source": [
    "filename_lst = np.load(\"../data/Raman_Mouse/FileNames.npy\")\n",
    "df = pd.read_csv('../data/Raman_Mouse/Sample_labels.csv', delimiter=',', skipinitialspace=True, header=0, skiprows=[])\n",
    "# only need which sample, gender, tissue type and age.\n",
    "data = df.to_numpy()[:,[0,2,4,6]]"
   ]
  },
  {
   "cell_type": "code",
   "execution_count": 31,
   "metadata": {},
   "outputs": [],
   "source": [
    "tissue_dict = {'Liver' : [1,0,0], 'Muscle' : [0,1,0], 'Kidney' : [0,0,1]}\n",
    "labels = {}\n",
    "for file in filename_lst:\n",
    "    try:\n",
    "        specimen_number = int(file.split(\"#\")[1][:2])\n",
    "    except ValueError:\n",
    "        specimen_number = int(file.split(\"#\")[1][0])\n",
    "    index = list(data[:,0]).index(specimen_number)\n",
    "    V_M = int(data[index, 1] == 'M')\n",
    "    L_M_K = tissue_dict[data[index, 2]] \n",
    "    \n",
    "    labels[file] = (V_M, *L_M_K, data[index, 3])\n",
    "\n",
    "with open('../data/Raman_Mouse/Sample_labels.pickle', 'wb') as f:\n",
    "    pickle.dump(labels, f)"
   ]
  },
  {
   "cell_type": "code",
   "execution_count": null,
   "metadata": {},
   "outputs": [],
   "source": []
  }
 ],
 "metadata": {
  "kernelspec": {
   "display_name": "Python 3",
   "language": "python",
   "name": "python3"
  },
  "language_info": {
   "codemirror_mode": {
    "name": "ipython",
    "version": 3
   },
   "file_extension": ".py",
   "mimetype": "text/x-python",
   "name": "python",
   "nbconvert_exporter": "python",
   "pygments_lexer": "ipython3",
   "version": "3.8.8"
  }
 },
 "nbformat": 4,
 "nbformat_minor": 4
}
