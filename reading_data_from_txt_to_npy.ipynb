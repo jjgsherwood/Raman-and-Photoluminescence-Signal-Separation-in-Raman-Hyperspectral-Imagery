{
 "cells": [
  {
   "cell_type": "code",
   "execution_count": 1,
   "metadata": {},
   "outputs": [
    {
     "data": {
      "text/plain": [
       "'\\nInterpolating to a constant wavenumber step (lowest as possible)\\nMake all images the same wavelength.\\n'"
      ]
     },
     "execution_count": 1,
     "metadata": {},
     "output_type": "execute_result"
    }
   ],
   "source": [
    "import numpy as np\n",
    "import pandas as pd\n",
    "import matplotlib.pyplot as plt\n",
    "import glob\n",
    "import pickle\n",
    "import os.path as path\n",
    "plt.rcParams['figure.figsize'] = (10.0, 8.0)\n",
    "\n",
    "\n",
    "\"\"\"\n",
    "Interpolating to a constant wavenumber step (lowest as possible)\n",
    "Make all images the same wavelength.\n",
    "\"\"\""
   ]
  },
  {
   "cell_type": "code",
   "execution_count": 7,
   "metadata": {},
   "outputs": [
    {
     "name": "stdout",
     "output_type": "stream",
     "text": [
      "0 Liver_map_150z25_60s_#12.npy\n"
     ]
    },
    {
     "ename": "KeyboardInterrupt",
     "evalue": "",
     "output_type": "error",
     "traceback": [
      "\u001b[0;31m---------------------------------------------------------------------------\u001b[0m",
      "\u001b[0;31mKeyboardInterrupt\u001b[0m                         Traceback (most recent call last)",
      "\u001b[0;32m<ipython-input-7-996d32790651>\u001b[0m in \u001b[0;36m<module>\u001b[0;34m\u001b[0m\n\u001b[1;32m     44\u001b[0m \u001b[0;34m\u001b[0m\u001b[0m\n\u001b[1;32m     45\u001b[0m     \u001b[0;32mfor\u001b[0m \u001b[0md\u001b[0m \u001b[0;32min\u001b[0m \u001b[0mdata\u001b[0m\u001b[0;34m:\u001b[0m\u001b[0;34m\u001b[0m\u001b[0;34m\u001b[0m\u001b[0m\n\u001b[0;32m---> 46\u001b[0;31m         \u001b[0mi\u001b[0m \u001b[0;34m=\u001b[0m \u001b[0mlist\u001b[0m\u001b[0;34m(\u001b[0m\u001b[0mX\u001b[0m\u001b[0;34m)\u001b[0m\u001b[0;34m.\u001b[0m\u001b[0mindex\u001b[0m\u001b[0;34m(\u001b[0m\u001b[0md\u001b[0m\u001b[0;34m[\u001b[0m\u001b[0;36m0\u001b[0m\u001b[0;34m]\u001b[0m\u001b[0;34m)\u001b[0m\u001b[0;34m\u001b[0m\u001b[0;34m\u001b[0m\u001b[0m\n\u001b[0m\u001b[1;32m     47\u001b[0m         \u001b[0mj\u001b[0m \u001b[0;34m=\u001b[0m \u001b[0mlist\u001b[0m\u001b[0;34m(\u001b[0m\u001b[0mY\u001b[0m\u001b[0;34m)\u001b[0m\u001b[0;34m.\u001b[0m\u001b[0mindex\u001b[0m\u001b[0;34m(\u001b[0m\u001b[0md\u001b[0m\u001b[0;34m[\u001b[0m\u001b[0;36m1\u001b[0m\u001b[0;34m]\u001b[0m\u001b[0;34m)\u001b[0m\u001b[0;34m\u001b[0m\u001b[0;34m\u001b[0m\u001b[0m\n\u001b[1;32m     48\u001b[0m         \u001b[0mw\u001b[0m \u001b[0;34m=\u001b[0m \u001b[0mwavelength\u001b[0m\u001b[0;34m.\u001b[0m\u001b[0mindex\u001b[0m\u001b[0;34m(\u001b[0m\u001b[0md\u001b[0m\u001b[0;34m[\u001b[0m\u001b[0;36m2\u001b[0m\u001b[0;34m]\u001b[0m\u001b[0;34m)\u001b[0m\u001b[0;34m\u001b[0m\u001b[0;34m\u001b[0m\u001b[0m\n",
      "\u001b[0;31mKeyboardInterrupt\u001b[0m: "
     ]
    }
   ],
   "source": [
    "filename_lst = []\n",
    "file_location = '../data/Raman_Mouse/'\n",
    "for i, file in enumerate(glob.glob(f'{file_location}raw/*')):\n",
    "    filename_lst.append(file.split('/')[-1].split('.')[0] + '.npy')\n",
    "    print(i, filename_lst[-1])\n",
    "\n",
    "    if path.exists(f'{file_location}{file.split(\"/\")[-1].split(\".\")[0]}.npy') and i != 0:\n",
    "        continue\n",
    "    \n",
    "    df = pd.read_csv(file, delimiter='\\t', skipinitialspace=True, header=0, skiprows=[])\n",
    "    data = df.to_numpy()[:,:4]\n",
    "\n",
    "    if i == 0:\n",
    "        X = np.array(sorted(list(np.unique(data[:,0]))))\n",
    "        Y = np.array(sorted(list(np.unique(data[:,1]))))\n",
    "        X_0 = X - X[0]\n",
    "        Y_0 = Y - Y[0]\n",
    "        Wavelength = sorted(list(np.unique(data[:,2])))\n",
    "        np.save(f'{file_location}X_coordinates', X) \n",
    "        np.save(f'{file_location}Y_coordinates', Y)\n",
    "    else:\n",
    "        try:\n",
    "            X = np.array(sorted(list(np.unique(data[:,0]))))\n",
    "            Y = np.array(sorted(list(np.unique(data[:,1]))))\n",
    "            x_0 = X - X[0]\n",
    "            y_0 = Y - Y[0]\n",
    "            assert (X_0 == x_0).all(), f\"X is not equal for file {file}\"\n",
    "            assert (Y_0 == y_0).all(), f\"Y is not equal for file {file}\"\n",
    "        except AssertionError:\n",
    "            print(\"X difference:\", X_0 - x_0)\n",
    "            print(\"Y difference:\", Y_0 - y_0)\n",
    "        except AttributeError:\n",
    "            print(\"Corrupted File\")\n",
    "            continue\n",
    "\n",
    "    if i==0 and path.exists(f'{file_location}{file.split(\"/\")[-1].split(\".\")[0]}.npy'):\n",
    "        continue\n",
    "\n",
    "    wavelength = sorted(list(np.unique(data[:,2])))\n",
    "    np.save(f'{file_location}{file.split(\"/\")[-1].split(\".\")[0]}_wavelength', wavelength) \n",
    "    \n",
    "    # detected if a point is missing (the value is than -100)\n",
    "    img = np.zeros((len(X), len(Y), len(wavelength)), dtype=np.float64) - 100\n",
    "\n",
    "    for d in data:\n",
    "        i = list(X).index(d[0])\n",
    "        j = list(Y).index(d[1])\n",
    "        w = wavelength.index(d[2])\n",
    "        img[i,j,w] = d[3]\n",
    "    np.save(f'{file_location}{file.split(\"/\")[-1].split(\".\")[0]}', img) \n",
    "\n",
    "np.save(f'{file_location}FileNames', filename_lst)"
   ]
  },
  {
   "cell_type": "code",
   "execution_count": null,
   "metadata": {},
   "outputs": [],
   "source": [
    "filename_lst = np.load(f\"{file_location}FileNames.npy\")\n",
    "df = pd.read_csv('../data/Raman_Mouse/Sample_labels.csv', delimiter=',', skipinitialspace=True, header=0, skiprows=[])\n",
    "# only need which sample, gender, tissue type and age.\n",
    "data = df.to_numpy()[:,[0,2,4,6]]"
   ]
  },
  {
   "cell_type": "code",
   "execution_count": null,
   "metadata": {},
   "outputs": [],
   "source": [
    "tissue_dict = {'Liver' : [1,0,0], 'Muscle' : [0,1,0], 'Kidney' : [0,0,1]}\n",
    "labels = {}\n",
    "for file in filename_lst:\n",
    "    try:\n",
    "        specimen_number = int(file.split(\"#\")[1][:2])\n",
    "    except ValueError:\n",
    "        specimen_number = int(file.split(\"#\")[1][0])\n",
    "    index = list(data[:,0]).index(specimen_number)\n",
    "    V_M = int(data[index, 1] == 'M')\n",
    "    L_M_K = tissue_dict[data[index, 2]] \n",
    "    \n",
    "    labels[file] = (V_M, *L_M_K, data[index, 3])\n",
    "\n",
    "with open('../data/Raman_Mouse/Sample_labels.pickle', 'wb') as f:\n",
    "    pickle.dump(labels, f)"
   ]
  },
  {
   "cell_type": "code",
   "execution_count": null,
   "metadata": {},
   "outputs": [],
   "source": []
  }
 ],
 "metadata": {
  "kernelspec": {
   "display_name": "Python 3",
   "language": "python",
   "name": "python3"
  },
  "language_info": {
   "codemirror_mode": {
    "name": "ipython",
    "version": 3
   },
   "file_extension": ".py",
   "mimetype": "text/x-python",
   "name": "python",
   "nbconvert_exporter": "python",
   "pygments_lexer": "ipython3",
   "version": "3.8.8"
  }
 },
 "nbformat": 4,
 "nbformat_minor": 4
}
