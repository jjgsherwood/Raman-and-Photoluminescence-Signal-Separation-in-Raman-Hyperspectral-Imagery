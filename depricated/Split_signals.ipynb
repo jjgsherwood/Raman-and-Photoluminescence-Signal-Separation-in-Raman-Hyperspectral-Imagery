{
 "cells": [
  {
   "cell_type": "code",
   "execution_count": null,
   "id": "fbcafe16",
   "metadata": {},
   "outputs": [],
   "source": [
    "import numpy as np\n",
    "import copy\n",
    "import pickle\n",
    "import matplotlib.pyplot as plt\n",
    "import preprocessing.GSP as GSP\n",
    "\n",
    "plt.rcParams['figure.figsize'] = (20.0, 7.0)"
   ]
  },
  {
   "cell_type": "code",
   "execution_count": null,
   "id": "92b051bf",
   "metadata": {},
   "outputs": [],
   "source": [
    "file_location = \"../data/Raman_Mouse/corrected_4_wavenumbers/\"\n",
    "filenames = np.load(f\"{file_location}FileNames.npy\")\n",
    "wavenumbers = np.load(f\"{file_location}Wavenumbers.npy\")\n",
    "\n",
    "data = []\n",
    "for f in filenames:\n",
    "    data.append(np.load(f\"{file_location}{f}\"))\n",
    "data = np.array(data)\n"
   ]
  },
  {
   "cell_type": "code",
   "execution_count": null,
   "id": "99653f67",
   "metadata": {},
   "outputs": [],
   "source": [
    "x = np.zeros(3750)\n",
    "x[range(0, 3750, 43)] = 1\n",
    "plt.imshow(x.reshape(150,25).T)"
   ]
  },
  {
   "cell_type": "code",
   "execution_count": null,
   "id": "40ea62f3",
   "metadata": {},
   "outputs": [],
   "source": [
    "file_location2 = \"../data/Raman_Mouse/preprocess/\"\n",
    "shape = data[0].shape\n",
    "\n",
    "for j, (f, img) in enumerate(zip(filenames, data)):    \n",
    "    tmp = copy.copy(img.reshape(-1, img.shape[-1]))\n",
    "    tmp1, tmp2 = GSP.split_Raman_af(GSP.smoothing(tmp, smooth=5, transition=10, spike_width=7), wavenumbers, 9)\n",
    "    print(img.shape)\n",
    "    for i in range(0, tmp1.shape[0], 43):\n",
    "        plt.plot(tmp[i], label='raw')\n",
    "        plt.plot(tmp1[i], label='raman')\n",
    "        plt.plot(tmp2[i], label='photoluminescence')\n",
    "#         plt.plot(tmp[i]-tmp1[i]-tmp2[i], label='error')\n",
    "        plt.legend()\n",
    "        plt.show()\n",
    "    break\n",
    "    \n",
    "    \n",
    "#     np.save(f'{file_location2}{f.split(\"/\")[-1].split(\".\")[0]}_raman', tmp1.reshape(shape))\n",
    "#     np.save(f'{file_location2}{f.split(\"/\")[-1].split(\".\")[0]}_photoluminescence', tmp2.reshape(shape))\n",
    "    print(f\"image: {f} is done.\")\n",
    "    "
   ]
  },
  {
   "cell_type": "code",
   "execution_count": null,
   "id": "c0f27a9d",
   "metadata": {},
   "outputs": [],
   "source": [
    "# np.save(f'{file_location2}Wavenumbers', wavenumbers)  \n",
    "# np.save(f'{file_location2}FileNames', filenames)  "
   ]
  },
  {
   "cell_type": "code",
   "execution_count": null,
   "id": "01ba7d30",
   "metadata": {},
   "outputs": [],
   "source": []
  }
 ],
 "metadata": {
  "kernelspec": {
   "display_name": "Python 3",
   "language": "python",
   "name": "python3"
  },
  "language_info": {
   "codemirror_mode": {
    "name": "ipython",
    "version": 3
   },
   "file_extension": ".py",
   "mimetype": "text/x-python",
   "name": "python",
   "nbconvert_exporter": "python",
   "pygments_lexer": "ipython3",
   "version": "3.8.8"
  }
 },
 "nbformat": 4,
 "nbformat_minor": 5
}
