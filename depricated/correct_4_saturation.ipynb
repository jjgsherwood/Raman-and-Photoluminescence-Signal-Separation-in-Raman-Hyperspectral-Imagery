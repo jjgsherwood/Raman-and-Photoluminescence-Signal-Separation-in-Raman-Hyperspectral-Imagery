{
 "cells": [
  {
   "cell_type": "code",
   "execution_count": 1,
   "id": "9dd5f6a3",
   "metadata": {},
   "outputs": [
    {
     "data": {
      "text/html": [
       "<style>.container { width:98% !important; }</style>"
      ],
      "text/plain": [
       "<IPython.core.display.HTML object>"
      ]
     },
     "metadata": {},
     "output_type": "display_data"
    }
   ],
   "source": [
    "import numpy as np\n",
    "import copy\n",
    "import pickle\n",
    "import matplotlib.pyplot as plt\n",
    "import os\n",
    "from signal_processing import SaturationCorrection\n",
    "\n",
    "\n",
    "plt.rcParams['figure.figsize'] = (20.0, 10.0)\n",
    "plt.rcParams['figure.dpi'] = 500\n",
    "\n",
    "from IPython.display import display, HTML\n",
    "display(HTML(\"<style>.container { width:98% !important; }</style>\"))"
   ]
  },
  {
   "cell_type": "code",
   "execution_count": 7,
   "id": "4729d9e9",
   "metadata": {},
   "outputs": [
    {
     "data": {
      "text/plain": [
       "(51, 150, 25, 1253)"
      ]
     },
     "execution_count": 7,
     "metadata": {},
     "output_type": "execute_result"
    }
   ],
   "source": [
    "file_location = \"../data/Raman_Mouse/corrected_4_wavenumbers/\"\n",
    "# file_location = \"../data/Green_excitation/cosmic_ray_removed/\"\n",
    "filenames = np.load(f\"{file_location}FileNames.npy\")\n",
    "\n",
    "data = []\n",
    "for f in filenames:\n",
    "    data.append(np.load(f\"{file_location}{f}\"))\n",
    "data = np.array(data)\n",
    "data.shape\n",
    "np.rollaxis(data, 2, 1).shape\n",
    "data.shape"
   ]
  },
  {
   "cell_type": "code",
   "execution_count": 4,
   "id": "0116f1d7",
   "metadata": {},
   "outputs": [],
   "source": [
    "# def fix_saturation(img, saturation_points):\n",
    "#     img2 = copy.copy(img)\n",
    "    \n",
    "#     for x,y in saturation_points:       \n",
    "#         neighborhood = []\n",
    "#         for i in range(-1,2):\n",
    "#             for j in range(-1,2):\n",
    "#                 if (img[x+i,y+j] == 0).any():\n",
    "#                     continue\n",
    "#                 neighborhood.append(img[x+i,y+j])\n",
    "#                 plt.plot(img[x+i,y+j])\n",
    "\n",
    "#         new = np.mean(neighborhood, 0)\n",
    "#         img2[x,y] = new\n",
    "        \n",
    "#         print(x,y)\n",
    "#         plt.plot(new, label='new')\n",
    "#         plt.legend()\n",
    "#         plt.show()\n",
    "#     return img2\n",
    "\n",
    "# def find_saturation(img):\n",
    "#     X,Y,_ = np.where(img == 0)\n",
    "#     saturation_points = set(zip(X,Y))\n",
    "    \n",
    "#     if not saturation_points:\n",
    "#         return img\n",
    "    \n",
    "#     print(f\"saturation points {saturation_points}\")\n",
    "    \n",
    "#     return fix_saturation(img, saturation_points)"
   ]
  },
  {
   "cell_type": "code",
   "execution_count": 5,
   "id": "a2574dca",
   "metadata": {
    "scrolled": false
   },
   "outputs": [
    {
     "name": "stdout",
     "output_type": "stream",
     "text": [
      "Liver_map_150z25_60s_#12.npy\n",
      "Muscle_map_150z25_60s_#34.npy\n",
      "Kidney_map_150z25_60s_#45.npy\n",
      "Kidney_map_150z25_60s_#43.npy\n",
      "Liver_map_150x25_60s_#13.npy\n",
      "Muscle_map_150z25_60s_#27.npy\n",
      "Kidney_map_150z25_60s_#39.npy\n",
      "Liver_map_150z25_60s_#2.npy\n",
      "Muscle_map_150z25_60s_#19.npy\n",
      "Liver_map_150z25_60s_#01.npy\n",
      "Liver_map_150z25_60s_#03.npy\n",
      "Muscle_map_150z25_60s_#25.npy\n",
      "Kidney_map_150z25_60s_#36.npy\n",
      "Liver_map_150x25_60s_#9.npy\n",
      "Liver_map_150z25_60s_#8.npy\n",
      "Muscle_map_150z25_60s_#20.npy\n",
      "Kidney_map_150z25_60s_#47.npy\n",
      "Liver_map_150z25_60s_#15.npy\n",
      "Muscle_map_150z25_60s_#30.npy\n",
      "Muscle_map_150z25_60s_#21.npy\n",
      "Muscle_map_150z25_60s_#32.npy\n",
      "Liver_map_150z25_60s_#14.npy\n",
      "Liver_map_150z25_60s_#6.npy\n",
      "Kidney_map_150z25_60s_#37.npy\n",
      "Muscle_map_150z25_60s_#22.npy\n",
      "Muscle_map_150z25_60s_#24.npy\n",
      "Muscle_map_150z25_60s_#28.npy\n",
      "Kidney_map_150z25_60s_#40.npy\n",
      "Kidney_map_150z25_60s_#38.npy\n",
      "Muscle_map_150z25_60s_#18.npy\n",
      "Muscle_map_150z25_60s_#29.npy\n",
      "Muscle_map_150z25_60s_#33.npy\n",
      "Kidney_map_150z25_60s_#51.npy\n",
      "Muscle_map_150z25_60s_#31.npy\n",
      "Liver_map_150z25_60s_#11.npy\n",
      "Liver_map_150z25_60s_#17.npy\n",
      "Liver_map_150x25_60s_#7.npy\n",
      "Kidney_map_150z25_60s_#50.npy\n",
      "Kidney_map_150z25_60s_#44.npy\n",
      "Liver_map_150x25_60s_#10.npy\n",
      "Muscle_map_150z25_60s_#23.npy\n",
      "Kidney_map_150z25_60s_#48.npy\n",
      "Kidney_map_150z25_60s_#42.npy\n",
      "Muscle_map_150z25_60s_#26.npy\n",
      "Liver_map_150z25_60s_#16.npy\n",
      "Liver_map_150z25_60s_#05.npy\n",
      "Kidney_map_150z25_60s_#49.npy\n",
      "Kidney_map_150z25_60s_#46.npy\n",
      "Kidney_map_150z25_60s_#41.npy\n",
      "Liver_map_150z25_60s_#4.npy\n",
      "Kidney_map_150z25_60s_#35.npy\n"
     ]
    }
   ],
   "source": [
    "file_location2 = f\"{'/'.join(file_location.split('/')[:-2])}/CRN_saturation_removed/\"\n",
    "os.makedirs(file_location2, exist_ok=True)\n",
    "\n",
    "remove_saturation = SaturationCorrection.remove_saturation()\n",
    "\n",
    "for i, img in enumerate(data):\n",
    "    print(filenames[i])\n",
    "    \n",
    "    img2 = remove_saturation(img)\n",
    "    \n",
    "    np.save(f'{file_location2}{filenames[i].split(\"/\")[-1].split(\".\")[0]}', img2) \n",
    "\n",
    "wavenumbers = np.load(f\"{file_location}Wavenumbers.npy\")\n",
    "\n",
    "np.save(f'{file_location2}Wavenumbers.npy', wavenumbers) \n",
    "\n",
    "np.save(f'{file_location2}FileNames', filenames)  "
   ]
  },
  {
   "cell_type": "code",
   "execution_count": null,
   "id": "7a8c479e",
   "metadata": {},
   "outputs": [],
   "source": []
  },
  {
   "cell_type": "code",
   "execution_count": null,
   "id": "51ecfcae",
   "metadata": {},
   "outputs": [],
   "source": []
  }
 ],
 "metadata": {
  "kernelspec": {
   "display_name": "Python 3 (ipykernel)",
   "language": "python",
   "name": "python3"
  },
  "language_info": {
   "codemirror_mode": {
    "name": "ipython",
    "version": 3
   },
   "file_extension": ".py",
   "mimetype": "text/x-python",
   "name": "python",
   "nbconvert_exporter": "python",
   "pygments_lexer": "ipython3",
   "version": "3.9.13"
  }
 },
 "nbformat": 4,
 "nbformat_minor": 5
}
