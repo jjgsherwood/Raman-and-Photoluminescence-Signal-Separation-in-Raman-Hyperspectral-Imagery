{
 "cells": [
  {
   "cell_type": "code",
   "execution_count": 1,
   "metadata": {},
   "outputs": [
    {
     "data": {
      "text/html": [
       "<style>.container { width:98% !important; }</style>"
      ],
      "text/plain": [
       "<IPython.core.display.HTML object>"
      ]
     },
     "metadata": {},
     "output_type": "display_data"
    }
   ],
   "source": [
    "import numpy as np\n",
    "import pandas as pd\n",
    "import matplotlib.pyplot as plt\n",
    "import glob\n",
    "import pickle\n",
    "import os.path as path\n",
    "\n",
    "import timeit\n",
    "\n",
    "\n",
    "from IPython.display import display, HTML\n",
    "display(HTML(\"<style>.container { width:98% !important; }</style>\"))"
   ]
  },
  {
   "cell_type": "code",
   "execution_count": 2,
   "metadata": {},
   "outputs": [
    {
     "ename": "FileNotFoundError",
     "evalue": "[Errno 2] No such file or directory: '../data/2022-11-04 15-57-58.747386/raw_npy/FileNames.npy'",
     "output_type": "error",
     "traceback": [
      "\u001b[1;31m---------------------------------------------------------------------------\u001b[0m",
      "\u001b[1;31mFileNotFoundError\u001b[0m                         Traceback (most recent call last)",
      "\u001b[1;32m~\\AppData\\Local\\Temp\\ipykernel_10320\\3353169780.py\u001b[0m in \u001b[0;36m<module>\u001b[1;34m\u001b[0m\n\u001b[0;32m     76\u001b[0m \u001b[1;31m#     start = timeit.default_timer()\u001b[0m\u001b[1;33m\u001b[0m\u001b[1;33m\u001b[0m\u001b[0m\n\u001b[0;32m     77\u001b[0m \u001b[1;33m\u001b[0m\u001b[0m\n\u001b[1;32m---> 78\u001b[1;33m \u001b[0mnp\u001b[0m\u001b[1;33m.\u001b[0m\u001b[0msave\u001b[0m\u001b[1;33m(\u001b[0m\u001b[1;34mf'{file_location}raw_npy/FileNames'\u001b[0m\u001b[1;33m,\u001b[0m \u001b[0mfilename_lst\u001b[0m\u001b[1;33m)\u001b[0m\u001b[1;33m\u001b[0m\u001b[1;33m\u001b[0m\u001b[0m\n\u001b[0m",
      "\u001b[1;32m<__array_function__ internals>\u001b[0m in \u001b[0;36msave\u001b[1;34m(*args, **kwargs)\u001b[0m\n",
      "\u001b[1;32mC:\\ProgramData\\Anaconda3\\lib\\site-packages\\numpy\\lib\\npyio.py\u001b[0m in \u001b[0;36msave\u001b[1;34m(file, arr, allow_pickle, fix_imports)\u001b[0m\n\u001b[0;32m    523\u001b[0m         \u001b[1;32mif\u001b[0m \u001b[1;32mnot\u001b[0m \u001b[0mfile\u001b[0m\u001b[1;33m.\u001b[0m\u001b[0mendswith\u001b[0m\u001b[1;33m(\u001b[0m\u001b[1;34m'.npy'\u001b[0m\u001b[1;33m)\u001b[0m\u001b[1;33m:\u001b[0m\u001b[1;33m\u001b[0m\u001b[1;33m\u001b[0m\u001b[0m\n\u001b[0;32m    524\u001b[0m             \u001b[0mfile\u001b[0m \u001b[1;33m=\u001b[0m \u001b[0mfile\u001b[0m \u001b[1;33m+\u001b[0m \u001b[1;34m'.npy'\u001b[0m\u001b[1;33m\u001b[0m\u001b[1;33m\u001b[0m\u001b[0m\n\u001b[1;32m--> 525\u001b[1;33m         \u001b[0mfile_ctx\u001b[0m \u001b[1;33m=\u001b[0m \u001b[0mopen\u001b[0m\u001b[1;33m(\u001b[0m\u001b[0mfile\u001b[0m\u001b[1;33m,\u001b[0m \u001b[1;34m\"wb\"\u001b[0m\u001b[1;33m)\u001b[0m\u001b[1;33m\u001b[0m\u001b[1;33m\u001b[0m\u001b[0m\n\u001b[0m\u001b[0;32m    526\u001b[0m \u001b[1;33m\u001b[0m\u001b[0m\n\u001b[0;32m    527\u001b[0m     \u001b[1;32mwith\u001b[0m \u001b[0mfile_ctx\u001b[0m \u001b[1;32mas\u001b[0m \u001b[0mfid\u001b[0m\u001b[1;33m:\u001b[0m\u001b[1;33m\u001b[0m\u001b[1;33m\u001b[0m\u001b[0m\n",
      "\u001b[1;31mFileNotFoundError\u001b[0m: [Errno 2] No such file or directory: '../data/2022-11-04 15-57-58.747386/raw_npy/FileNames.npy'"
     ]
    }
   ],
   "source": [
    "filename_lst = []\n",
    "file_location = '../data/Raman_Mouse/'\n",
    "for i, file in enumerate(glob.glob(f'{file_location}raw/*')):\n",
    "    filename_lst.append(file.split('/')[-1].split('\\\\')[-1].split('.')[0] + '.npy')\n",
    "    print(i, filename_lst[-1])\n",
    "\n",
    "#     if path.exists(f'{file_location}raw_npy/{filename_lst[-1]}') and i!=0:\n",
    "#         continue\n",
    "    start = timeit.default_timer()\n",
    "    \n",
    "    df = pd.read_csv(file, delimiter='\\t', skipinitialspace=True, header=0, skiprows=[])\n",
    "    data = df.to_numpy()[:,:4]\n",
    "    \n",
    "    stop = timeit.default_timer()\n",
    "    print('Time: ', stop - start)\n",
    "    start = timeit.default_timer()\n",
    "    \n",
    "    if i == 0:\n",
    "        X = np.array(sorted(list(np.unique(data[:,0]))))\n",
    "        Y = np.array(sorted(list(np.unique(data[:,1]))))\n",
    "        X_0 = X - X[0]\n",
    "        Y_0 = Y - Y[0]\n",
    "        Wavelength = sorted(list(np.unique(data[:,2])))\n",
    "        np.save(f'{file_location}X_coordinates', X) \n",
    "        np.save(f'{file_location}Y_coordinates', Y)\n",
    "    else:\n",
    "        try:\n",
    "            X = np.array(sorted(list(np.unique(data[:,0]))))\n",
    "            Y = np.array(sorted(list(np.unique(data[:,1]))))\n",
    "            x_0 = X - X[0]\n",
    "            y_0 = Y - Y[0]\n",
    "            assert (X_0 == x_0).all(), f\"X is not equal for file {file}\"\n",
    "            assert (Y_0 == y_0).all(), f\"Y is not equal for file {file}\"\n",
    "        except AssertionError:\n",
    "            print(\"X difference:\", X_0 - x_0)\n",
    "            print(\"Y difference:\", Y_0 - y_0)\n",
    "        except AttributeError:\n",
    "            print(\"Corrupted File\")\n",
    "            continue\n",
    "\n",
    "    stop = timeit.default_timer()\n",
    "    print('Time: ', stop - start)\n",
    "    start = timeit.default_timer()\n",
    "            \n",
    "#     if i==0 and path.exists(f'{file_location}raw_npy/{filename_lst[-1]}'):\n",
    "#         continue\n",
    "\n",
    "    wavelength = sorted(list(np.unique(data[:,2])))\n",
    "    np.save(f'{file_location}raw_npy/{filename_lst[-1].split(\".\")[0]}_Wavenumbers', wavelength) \n",
    "    \n",
    "    # detected if a point is missing (the value is than -100)\n",
    "    img = np.zeros((len(X), len(Y), len(wavelength)), dtype=np.float64) - 100\n",
    "\n",
    "    stop = timeit.default_timer()\n",
    "    print('Time: ', stop - start)\n",
    "    start = timeit.default_timer()\n",
    "    \n",
    "#     for d in data:\n",
    "#         i = list(X).index(d[0])\n",
    "#         j = list(Y).index(d[1])\n",
    "#         w = wavelength.index(d[2])\n",
    "#         img[i,j,w] = d[3]\n",
    "        \n",
    "    data = data[:,3]\n",
    "    data = data.reshape(len(Y), len(X), len(wavelength))\n",
    "    data = np.rollaxis(data, 1, 0)\n",
    "    data = data[:,:,::-1]\n",
    "    \n",
    "    stop = timeit.default_timer()\n",
    "    print('Time: ', stop - start)\n",
    "        \n",
    "#     np.save(f'{file_location}raw_npy/{filename_lst[-1]}', img) \n",
    "\n",
    "#     stop = timeit.default_timer()\n",
    "#     print('Time: ', stop - start)\n",
    "#     start = timeit.default_timer()\n",
    "\n",
    "np.save(f'{file_location}raw_npy/FileNames', filename_lst)"
   ]
  },
  {
   "cell_type": "code",
   "execution_count": 3,
   "metadata": {},
   "outputs": [
    {
     "ename": "FileNotFoundError",
     "evalue": "[Errno 2] No such file or directory: '../data/2022-11-04 15-57-58.747386/raw_npy/FileNames.npy'",
     "output_type": "error",
     "traceback": [
      "\u001b[1;31m---------------------------------------------------------------------------\u001b[0m",
      "\u001b[1;31mFileNotFoundError\u001b[0m                         Traceback (most recent call last)",
      "\u001b[1;32m~\\AppData\\Local\\Temp\\ipykernel_10320\\3773251093.py\u001b[0m in \u001b[0;36m<module>\u001b[1;34m\u001b[0m\n\u001b[1;32m----> 1\u001b[1;33m \u001b[0mfilename_lst\u001b[0m \u001b[1;33m=\u001b[0m \u001b[0mnp\u001b[0m\u001b[1;33m.\u001b[0m\u001b[0mload\u001b[0m\u001b[1;33m(\u001b[0m\u001b[1;34mf\"{file_location}raw_npy/FileNames.npy\"\u001b[0m\u001b[1;33m)\u001b[0m\u001b[1;33m\u001b[0m\u001b[1;33m\u001b[0m\u001b[0m\n\u001b[0m\u001b[0;32m      2\u001b[0m \u001b[0mdf\u001b[0m \u001b[1;33m=\u001b[0m \u001b[0mpd\u001b[0m\u001b[1;33m.\u001b[0m\u001b[0mread_csv\u001b[0m\u001b[1;33m(\u001b[0m\u001b[1;34m'../data/Raman_Mouse/Sample_labels.csv'\u001b[0m\u001b[1;33m,\u001b[0m \u001b[0mdelimiter\u001b[0m\u001b[1;33m=\u001b[0m\u001b[1;34m','\u001b[0m\u001b[1;33m,\u001b[0m \u001b[0mskipinitialspace\u001b[0m\u001b[1;33m=\u001b[0m\u001b[1;32mTrue\u001b[0m\u001b[1;33m,\u001b[0m \u001b[0mheader\u001b[0m\u001b[1;33m=\u001b[0m\u001b[1;36m0\u001b[0m\u001b[1;33m,\u001b[0m \u001b[0mskiprows\u001b[0m\u001b[1;33m=\u001b[0m\u001b[1;33m[\u001b[0m\u001b[1;33m]\u001b[0m\u001b[1;33m)\u001b[0m\u001b[1;33m\u001b[0m\u001b[1;33m\u001b[0m\u001b[0m\n\u001b[0;32m      3\u001b[0m \u001b[1;31m# only need which sample, gender, tissue type and age.\u001b[0m\u001b[1;33m\u001b[0m\u001b[1;33m\u001b[0m\u001b[0m\n\u001b[0;32m      4\u001b[0m \u001b[0mdata\u001b[0m \u001b[1;33m=\u001b[0m \u001b[0mdf\u001b[0m\u001b[1;33m.\u001b[0m\u001b[0mto_numpy\u001b[0m\u001b[1;33m(\u001b[0m\u001b[1;33m)\u001b[0m\u001b[1;33m[\u001b[0m\u001b[1;33m:\u001b[0m\u001b[1;33m,\u001b[0m\u001b[1;33m[\u001b[0m\u001b[1;36m0\u001b[0m\u001b[1;33m,\u001b[0m\u001b[1;36m2\u001b[0m\u001b[1;33m,\u001b[0m\u001b[1;36m4\u001b[0m\u001b[1;33m,\u001b[0m\u001b[1;36m6\u001b[0m\u001b[1;33m]\u001b[0m\u001b[1;33m]\u001b[0m\u001b[1;33m\u001b[0m\u001b[1;33m\u001b[0m\u001b[0m\n",
      "\u001b[1;32mC:\\ProgramData\\Anaconda3\\lib\\site-packages\\numpy\\lib\\npyio.py\u001b[0m in \u001b[0;36mload\u001b[1;34m(file, mmap_mode, allow_pickle, fix_imports, encoding)\u001b[0m\n\u001b[0;32m    415\u001b[0m             \u001b[0mown_fid\u001b[0m \u001b[1;33m=\u001b[0m \u001b[1;32mFalse\u001b[0m\u001b[1;33m\u001b[0m\u001b[1;33m\u001b[0m\u001b[0m\n\u001b[0;32m    416\u001b[0m         \u001b[1;32melse\u001b[0m\u001b[1;33m:\u001b[0m\u001b[1;33m\u001b[0m\u001b[1;33m\u001b[0m\u001b[0m\n\u001b[1;32m--> 417\u001b[1;33m             \u001b[0mfid\u001b[0m \u001b[1;33m=\u001b[0m \u001b[0mstack\u001b[0m\u001b[1;33m.\u001b[0m\u001b[0menter_context\u001b[0m\u001b[1;33m(\u001b[0m\u001b[0mopen\u001b[0m\u001b[1;33m(\u001b[0m\u001b[0mos_fspath\u001b[0m\u001b[1;33m(\u001b[0m\u001b[0mfile\u001b[0m\u001b[1;33m)\u001b[0m\u001b[1;33m,\u001b[0m \u001b[1;34m\"rb\"\u001b[0m\u001b[1;33m)\u001b[0m\u001b[1;33m)\u001b[0m\u001b[1;33m\u001b[0m\u001b[1;33m\u001b[0m\u001b[0m\n\u001b[0m\u001b[0;32m    418\u001b[0m             \u001b[0mown_fid\u001b[0m \u001b[1;33m=\u001b[0m \u001b[1;32mTrue\u001b[0m\u001b[1;33m\u001b[0m\u001b[1;33m\u001b[0m\u001b[0m\n\u001b[0;32m    419\u001b[0m \u001b[1;33m\u001b[0m\u001b[0m\n",
      "\u001b[1;31mFileNotFoundError\u001b[0m: [Errno 2] No such file or directory: '../data/2022-11-04 15-57-58.747386/raw_npy/FileNames.npy'"
     ]
    }
   ],
   "source": [
    "filename_lst = np.load(f\"{file_location}raw_npy/FileNames.npy\")\n",
    "df = pd.read_csv('../data/Raman_Mouse/Sample_labels.csv', delimiter=',', skipinitialspace=True, header=0, skiprows=[])\n",
    "# only need which sample, gender, tissue type and age.\n",
    "data = df.to_numpy()[:,[0,2,4,6]]"
   ]
  },
  {
   "cell_type": "code",
   "execution_count": null,
   "metadata": {},
   "outputs": [],
   "source": [
    "tissue_dict = {'Liver' : [1,0,0], 'Muscle' : [0,1,0], 'Kidney' : [0,0,1]}\n",
    "labels = {}\n",
    "for file in filename_lst:\n",
    "    try:\n",
    "        specimen_number = int(file.split(\"#\")[1][:2])\n",
    "    except ValueError:\n",
    "        specimen_number = int(file.split(\"#\")[1][0])\n",
    "    index = list(data[:,0]).index(specimen_number)\n",
    "    V_M = int(data[index, 1] == 'M')\n",
    "    L_M_K = tissue_dict[data[index, 2]] \n",
    "    \n",
    "    labels[f\"{file.split('.')[0]}.npy\"] = (V_M, *L_M_K, data[index, 3])\n",
    "\n",
    "with open('../data/Raman_Mouse/Sample_labels.pickle', 'wb') as f:\n",
    "    pickle.dump(labels, f)"
   ]
  },
  {
   "cell_type": "code",
   "execution_count": null,
   "metadata": {},
   "outputs": [],
   "source": []
  }
 ],
 "metadata": {
  "kernelspec": {
   "display_name": "Python 3 (ipykernel)",
   "language": "python",
   "name": "python3"
  },
  "language_info": {
   "codemirror_mode": {
    "name": "ipython",
    "version": 3
   },
   "file_extension": ".py",
   "mimetype": "text/x-python",
   "name": "python",
   "nbconvert_exporter": "python",
   "pygments_lexer": "ipython3",
   "version": "3.9.13"
  }
 },
 "nbformat": 4,
 "nbformat_minor": 4
}
