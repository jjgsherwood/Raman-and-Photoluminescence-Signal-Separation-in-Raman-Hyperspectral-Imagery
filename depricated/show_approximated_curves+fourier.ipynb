{
 "cells": [
  {
   "cell_type": "code",
   "execution_count": null,
   "id": "e7191494",
   "metadata": {},
   "outputs": [],
   "source": [
    "import numpy as np\n",
    "import copy\n",
    "import pickle\n",
    "\n",
    "import matplotlib.pyplot as plt\n",
    "from scipy.fft import fft, ifft\n",
    "\n",
    "plt.rcParams['figure.figsize'] = (20.0, 10.0)\n",
    "plt.rcParams['figure.dpi'] = 500"
   ]
  },
  {
   "cell_type": "code",
   "execution_count": null,
   "id": "2695a402",
   "metadata": {},
   "outputs": [],
   "source": [
    "file_location = \"../data/Raman_Mouse/approximated/\"\n",
    "filenames = np.load(f\"{file_location}FileNames.npy\")\n",
    "with open(f'{file_location}Sample_labels.pickle', 'rb') as f:\n",
    "    labels = pickle.load(f)\n",
    "    \n",
    "wavenumbers = np.load(f\"{file_location}Wavenumbers.npy\")\n",
    "\n",
    "data = []\n",
    "for f in filenames:\n",
    "    x = np.load(f\"{file_location}{f.split('.')[0]}_raman.npy\")\n",
    "#     y = np.load(f\"{file_location}{f.split('.')[0]}_photoluminescence.npy\")\n",
    "    data.append(((x.reshape(-1,x.shape[-1])).reshape(x.shape), labels[f]))"
   ]
  },
  {
   "cell_type": "code",
   "execution_count": null,
   "id": "8370aba8",
   "metadata": {},
   "outputs": [],
   "source": [
    "x = np.random.randint(0,150)\n",
    "y = np.random.randint(0,25)\n",
    "image = np.random.randint(0,51)\n",
    "print(image, x, y)\n",
    "plt.plot(data[image][0][x][y])\n",
    "plt.show()\n"
   ]
  },
  {
   "cell_type": "code",
   "execution_count": null,
   "id": "b73a7671",
   "metadata": {},
   "outputs": [],
   "source": [
    "x = np.random.randint(0,150)\n",
    "y = np.random.randint(0,25)\n",
    "z = np.random.randint(0,1300)\n",
    "# x,y = 78,17\n",
    "\n",
    "print(f\"pixel {x, y, z}\")\n",
    "new = []\n",
    "for z in range(1300):\n",
    "    tmp = []\n",
    "    for i in range(150):\n",
    "        pixel = data[0][0][i][y][z]\n",
    "        tmp.append(pixel)\n",
    "\n",
    "    pixel_ft = fft(tmp)\n",
    "    pixel_ft[40:110] = 0\n",
    "    new.append(ifft(pixel_ft)[x])\n",
    "    \n",
    "plt.plot(data[0][0][x][y])\n",
    "plt.plot(new)\n",
    "\n",
    "# cutoff = [0,200,1100,1300]\n",
    "# for c in cutoff:\n",
    "#     plt.plot([c, c], [-100,500])\n",
    "\n",
    "# pixel_ft_sum = copy.copy(pixel_ft)\n",
    "# pixel_ft_sum[cutoff[1]:cutoff[2]] = 0\n",
    "\n",
    "# pixel_ft4 = copy.copy(pixel_ft)\n",
    "# pixel_ft5 = copy.copy(pixel_ft)\n",
    "# pixel_ft4[cutoff[0]:] = 0\n",
    "# pixel_ft5[:cutoff[-1]] = 0\n",
    "\n",
    "# pixel_ft[:cutoff[0]] = 0\n",
    "# pixel_ft[cutoff[-1]:] = 0\n",
    "\n",
    "# pixel_ft1 = copy.copy(pixel_ft)\n",
    "# pixel_ft1[cutoff[1]:] = 0\n",
    "\n",
    "# pixel_ft2 = copy.copy(pixel_ft)\n",
    "# pixel_ft2[cutoff[2]:] = 0\n",
    "# pixel_ft2[:cutoff[1]] = 0\n",
    "\n",
    "# pixel_ft3 = copy.copy(pixel_ft)\n",
    "# pixel_ft3[:cutoff[2]] = 0\n",
    "\n",
    "# plt.plot(ifft(pixel_ft))\n",
    "# plt.show()\n",
    "\n",
    "# pixel_ift1 = ifft(pixel_ft1)\n",
    "# pixel_ift2 = ifft(pixel_ft2)\n",
    "# pixel_ift3 = ifft(pixel_ft3)\n",
    "# pixel_ift4 = ifft(pixel_ft4)\n",
    "# pixel_ift5 = ifft(pixel_ft5)\n",
    "# pixel_ift_sum = ifft(pixel_ft_sum)\n",
    "\n",
    "# plt.plot(pixel)\n",
    "# # plt.plot(pixel_ift_sum)\n",
    "# plt.plot(pixel_ift4+200)\n",
    "# plt.plot(pixel_ift1+100)\n",
    "# plt.plot(pixel_ift2)\n",
    "# plt.plot(pixel_ift3-100)\n",
    "# plt.plot(pixel_ift5-200)\n",
    "# plt.show()\n"
   ]
  },
  {
   "cell_type": "code",
   "execution_count": null,
   "id": "6fac8d36",
   "metadata": {},
   "outputs": [],
   "source": []
  },
  {
   "cell_type": "code",
   "execution_count": null,
   "id": "245425de",
   "metadata": {},
   "outputs": [],
   "source": []
  }
 ],
 "metadata": {
  "kernelspec": {
   "display_name": "Python 3",
   "language": "python",
   "name": "python3"
  },
  "language_info": {
   "codemirror_mode": {
    "name": "ipython",
    "version": 3
   },
   "file_extension": ".py",
   "mimetype": "text/x-python",
   "name": "python",
   "nbconvert_exporter": "python",
   "pygments_lexer": "ipython3",
   "version": "3.8.8"
  }
 },
 "nbformat": 4,
 "nbformat_minor": 5
}
