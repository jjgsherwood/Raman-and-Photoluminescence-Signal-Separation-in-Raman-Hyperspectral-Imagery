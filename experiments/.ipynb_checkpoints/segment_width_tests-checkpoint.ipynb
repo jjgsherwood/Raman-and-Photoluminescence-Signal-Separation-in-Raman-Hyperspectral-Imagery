{
 "cells": [
  {
   "cell_type": "code",
   "execution_count": 1,
   "id": "85a5e729",
   "metadata": {},
   "outputs": [
    {
     "data": {
      "text/html": [
       "<style>.container { width:98% !important; }</style>"
      ],
      "text/plain": [
       "<IPython.core.display.HTML object>"
      ]
     },
     "metadata": {},
     "output_type": "display_data"
    }
   ],
   "source": [
    "from load_modules import *\n",
    "import copy\n",
    "\n"
   ]
  },
  {
   "cell_type": "code",
   "execution_count": 2,
   "id": "178f7753",
   "metadata": {
    "scrolled": true
   },
   "outputs": [],
   "source": [
    "plt.rcParams['figure.figsize'] = (14.0, 3.0)\n",
    "plt.rcParams['figure.dpi'] = 100\n",
    "plt.rcParams['lines.linewidth'] = 1\n",
    "\n",
    "def create_exp(x):\n",
    "    return np.random.uniform(80,100)*np.exp(np.linspace(1,np.random.uniform(-1,-50),len(x))) \n",
    "\n",
    "def create_poly(x):\n",
    "    max_power = np.random.randint(3,7)\n",
    "    y = np.ones(x.shape) * np.random.uniform(20,40) + (max_power-1) * 30\n",
    "    for power in range(1, max_power):\n",
    "        y -= np.linspace(-1,1,len(x))**power * np.random.uniform(20,40)\n",
    "    return y\n",
    "\n",
    "def create_gaus(x):\n",
    "    mu = np.random.uniform(600,800) * (end-start) / steps\n",
    "    sigma = np.random.uniform(200,500)\n",
    "    return np.exp(-0.5* ((x - mu)**2 / sigma**2)) * np.random.uniform(20,40)\n",
    "\n",
    "def norm(e):\n",
    "    return (e - np.min(e)) / (np.max(e) - np.min(e))\n",
    "\n",
    "end = 2000\n",
    "start = 80\n",
    "steps = 1250\n",
    "n = end-start\n",
    "x = np.linspace(start, end, steps)\n",
    "\n",
    "\n",
    "raw_lst = []\n",
    "def create_dummy_spectra(expo=True, poly=True, gaus=True, raman=True):\n",
    "    global raw_lst\n",
    "    raw_lst = []\n",
    "    for _ in range(100):\n",
    "        photo  = np.zeros(x.shape)\n",
    "        if expo:\n",
    "            photo += create_exp(x)\n",
    "        if poly:\n",
    "            photo += create_poly(x)\n",
    "        if gaus:\n",
    "            photo += create_gaus(x)\n",
    "        photo -= min(-5, np.min(photo))\n",
    "        raw = copy.copy(photo)\n",
    "                \n",
    "        if raman:\n",
    "            for _ in range(20):\n",
    "                FWHM_spike = np.random.uniform(7,80)\n",
    "                raman_mu = int(n*np.random.uniform(0.1,0.9))\n",
    "                raw +=  np.random.uniform(5,10) * LSQ.gaussian(x, np.array([raman_mu]), np.array([FWHM_spike / (2 * np.sqrt(2 * np.log(2)))])).reshape(-1)\n",
    "            for _ in range(10):\n",
    "                FWHM_spike = np.random.uniform(7,40)\n",
    "                raman_mu = int(n*np.random.uniform(0.1,0.9))\n",
    "                raw +=  np.random.uniform(10,20) * LSQ.gaussian(x, np.array([raman_mu]), np.array([FWHM_spike / (2 * np.sqrt(2 * np.log(2)))])).reshape(-1)\n",
    "            for _ in range(6):\n",
    "                FWHM_spike = np.random.uniform(7,40)\n",
    "                raman_mu = int(n*np.random.uniform(0.1,0.9))\n",
    "                raw +=  np.random.uniform(20,80) * LSQ.gaussian(x, np.array([raman_mu]), np.array([FWHM_spike / (2 * np.sqrt(2 * np.log(2)))])).reshape(-1)\n",
    "        \n",
    "        raw += np.random.random(x.shape) * 5\n",
    "        raw_lst.append((raw, photo))\n",
    "    raw_lst = np.array(raw_lst)\n",
    "\n",
    "# create_dummy_spectra(expo=True, poly=True, gaus=True, raman=True)\n",
    "# for raw, p in raw_lst:\n",
    "#     plt.plot(x, raw)\n",
    "#     plt.plot(x,p)\n",
    "#     plt.xlim(start,end)\n",
    "#     plt.ylim(0)\n",
    "#     plt.ylabel(\"intensity (-)\")\n",
    "#     plt.xlabel(r\"wavenumbers ($cm^{-1}$)\")\n",
    "#     plt.show()"
   ]
  },
  {
   "cell_type": "code",
   "execution_count": 3,
   "id": "e3572f3c",
   "metadata": {
    "scrolled": true
   },
   "outputs": [],
   "source": [
    "create_dummy_spectra(expo=True, poly=True, gaus=True, raman=True)"
   ]
  },
  {
   "cell_type": "code",
   "execution_count": 5,
   "id": "374c2e99",
   "metadata": {
    "scrolled": false
   },
   "outputs": [
    {
     "ename": "TypeError",
     "evalue": "__call__() takes 2 positional arguments but 3 were given",
     "output_type": "error",
     "traceback": [
      "\u001b[0;31m---------------------------------------------------------------------------\u001b[0m",
      "\u001b[0;31mTypeError\u001b[0m                                 Traceback (most recent call last)",
      "\u001b[0;32m<ipython-input-5-859262ff1602>\u001b[0m in \u001b[0;36m<module>\u001b[0;34m\u001b[0m\n\u001b[1;32m     17\u001b[0m         \u001b[0msplit\u001b[0m \u001b[0;34m=\u001b[0m \u001b[0msplitting\u001b[0m\u001b[0;34m.\u001b[0m\u001b[0msplit\u001b[0m\u001b[0;34m(\u001b[0m\u001b[0mx\u001b[0m\u001b[0;34m,\u001b[0m \u001b[0msize\u001b[0m\u001b[0;34m=\u001b[0m\u001b[0mx\u001b[0m\u001b[0;34m.\u001b[0m\u001b[0mshape\u001b[0m\u001b[0;34m[\u001b[0m\u001b[0;36m0\u001b[0m\u001b[0;34m]\u001b[0m\u001b[0;34m,\u001b[0m \u001b[0mFWHM\u001b[0m\u001b[0;34m=\u001b[0m\u001b[0;36m400\u001b[0m\u001b[0;34m,\u001b[0m \u001b[0msegment_width\u001b[0m\u001b[0;34m=\u001b[0m\u001b[0msegment_width\u001b[0m\u001b[0;34m,\u001b[0m \u001b[0malgorithm\u001b[0m\u001b[0;34m=\u001b[0m\u001b[0;34m\"Bezier curve\"\u001b[0m\u001b[0;34m)\u001b[0m\u001b[0;34m\u001b[0m\u001b[0;34m\u001b[0m\u001b[0m\n\u001b[1;32m     18\u001b[0m     \u001b[0;32mfor\u001b[0m \u001b[0mraw\u001b[0m\u001b[0;34m,\u001b[0m \u001b[0mreal_photo\u001b[0m \u001b[0;32min\u001b[0m \u001b[0mraw_lst\u001b[0m\u001b[0;34m:\u001b[0m\u001b[0;34m\u001b[0m\u001b[0;34m\u001b[0m\u001b[0m\n\u001b[0;32m---> 19\u001b[0;31m         \u001b[0mphoto\u001b[0m \u001b[0;34m=\u001b[0m \u001b[0msplit\u001b[0m\u001b[0;34m(\u001b[0m\u001b[0mraw\u001b[0m\u001b[0;34m.\u001b[0m\u001b[0mreshape\u001b[0m\u001b[0;34m(\u001b[0m\u001b[0;36m1\u001b[0m\u001b[0;34m,\u001b[0m\u001b[0;34m-\u001b[0m\u001b[0;36m1\u001b[0m\u001b[0;34m)\u001b[0m\u001b[0;34m,\u001b[0m \u001b[0mraw\u001b[0m\u001b[0;34m.\u001b[0m\u001b[0mreshape\u001b[0m\u001b[0;34m(\u001b[0m\u001b[0;36m1\u001b[0m\u001b[0;34m,\u001b[0m\u001b[0;34m-\u001b[0m\u001b[0;36m1\u001b[0m\u001b[0;34m)\u001b[0m\u001b[0;34m)\u001b[0m\u001b[0;34m\u001b[0m\u001b[0;34m\u001b[0m\u001b[0m\n\u001b[0m\u001b[1;32m     20\u001b[0m         \u001b[0me\u001b[0m \u001b[0;34m+=\u001b[0m \u001b[0;34m[\u001b[0m\u001b[0merror\u001b[0m\u001b[0;34m.\u001b[0m\u001b[0mMSE\u001b[0m\u001b[0;34m(\u001b[0m\u001b[0mphoto\u001b[0m\u001b[0;34m[\u001b[0m\u001b[0;36m0\u001b[0m\u001b[0;34m]\u001b[0m\u001b[0;34m,\u001b[0m \u001b[0mreal_photo\u001b[0m\u001b[0;34m)\u001b[0m\u001b[0;34m]\u001b[0m\u001b[0;34m\u001b[0m\u001b[0;34m\u001b[0m\u001b[0m\n\u001b[1;32m     21\u001b[0m         \u001b[0me2\u001b[0m \u001b[0;34m+=\u001b[0m \u001b[0;34m[\u001b[0m\u001b[0merror\u001b[0m\u001b[0;34m.\u001b[0m\u001b[0mTMSGE\u001b[0m\u001b[0;34m(\u001b[0m\u001b[0mphoto\u001b[0m\u001b[0;34m[\u001b[0m\u001b[0;36m0\u001b[0m\u001b[0;34m]\u001b[0m\u001b[0;34m,\u001b[0m \u001b[0mreal_photo\u001b[0m\u001b[0;34m)\u001b[0m\u001b[0;34m]\u001b[0m\u001b[0;34m\u001b[0m\u001b[0;34m\u001b[0m\u001b[0m\n",
      "\u001b[0;31mTypeError\u001b[0m: __call__() takes 2 positional arguments but 3 were given"
     ]
    }
   ],
   "source": [
    "plt.rcParams['figure.figsize'] = (14.0, 3.0)\n",
    "plt.rcParams['figure.dpi'] = 100\n",
    "plt.rcParams['lines.linewidth'] = 1\n",
    "\n",
    "error_lst = []\n",
    "error_lst2 = []\n",
    "error_lst3 = []\n",
    "\n",
    "segment_width_lst = range(0,10001,200)\n",
    "for segment_width in segment_width_lst:\n",
    "    e = []\n",
    "    e2 = []\n",
    "    e3 = []\n",
    "    if not segment_width:\n",
    "        split = splitting.preliminary_split(x, size=x.shape[0], FWHM=400)\n",
    "    else:\n",
    "        split = splitting.split(x, size=x.shape[0], FWHM=400, segment_width=segment_width, algorithm=\"Bezier curve\")\n",
    "    for raw, real_photo in raw_lst:\n",
    "        photo = split(raw.reshape(1,-1))\n",
    "        e += [error.MSE(photo[0], real_photo)]\n",
    "        e2 += [error.TMSGE(photo[0], real_photo)]\n",
    "        e3 += [error.MSGE(photo[0])]\n",
    "    e = np.mean(e) \n",
    "    e2 = np.mean(e2)\n",
    "    e3 = np.mean(e3)\n",
    "    error_lst.append(e)\n",
    "    error_lst2.append(e2)\n",
    "    print(f\"segment_width: {segment_width},\\t error: {e}, \\t smoothness: {e2}, \\t smoothness: {e3}\")\n",
    "    plt.plot(x, raw, label=\"raw\")\n",
    "    plt.plot(x, photo.reshape(-1), label=\"appr\")\n",
    "    plt.plot(x, real_photo, label=\"photo\")\n",
    "    plt.ylim(0)\n",
    "    plt.xlim(start, end)\n",
    "    plt.legend()\n",
    "    plt.show()\n",
    "    \n",
    "error_lst = np.array(error_lst)\n",
    "error_lst2 = np.array(error_lst2)\n",
    "error_lst3 = np.array(error_lst3)"
   ]
  },
  {
   "cell_type": "code",
   "execution_count": null,
   "id": "7d828291",
   "metadata": {},
   "outputs": [],
   "source": [
    "\n",
    "# error_lst1a = error_lst[::2]\n",
    "# error_lst1b = error_lst[1::2]\n",
    "\n",
    "# error_lst2a = error_lst2[::2]\n",
    "# error_lst2b = error_lst2[1::2]\n",
    "\n",
    "error_lst3c = np.abs(error_lst3)\n",
    "# error_lst3a = error_lst3c[::2]\n",
    "# error_lst3b = error_lst3c[1::2]\n",
    "\n",
    "error_lst1a = error_lst\n",
    "error_lst2a = error_lst2\n",
    "error_lst3a = error_lst3c"
   ]
  },
  {
   "cell_type": "code",
   "execution_count": null,
   "id": "40aa1558",
   "metadata": {
    "scrolled": false
   },
   "outputs": [],
   "source": [
    "error_check1 = np.log(error_lst1a)\n",
    "error_check2 = np.log(error_lst2a)\n",
    "error_check3 = np.log(error_lst3a)\n",
    "# error_check1 = (error_lst1a)\n",
    "# error_check2 = (error_lst2a)\n",
    "# error_check3 = (error_lst3a)\n"
   ]
  },
  {
   "cell_type": "code",
   "execution_count": null,
   "id": "2419d4cb",
   "metadata": {},
   "outputs": [],
   "source": []
  },
  {
   "cell_type": "code",
   "execution_count": null,
   "id": "fc20cb6d",
   "metadata": {},
   "outputs": [],
   "source": []
  }
 ],
 "metadata": {
  "kernelspec": {
   "display_name": "Python 3",
   "language": "python",
   "name": "python3"
  },
  "language_info": {
   "codemirror_mode": {
    "name": "ipython",
    "version": 3
   },
   "file_extension": ".py",
   "mimetype": "text/x-python",
   "name": "python",
   "nbconvert_exporter": "python",
   "pygments_lexer": "ipython3",
   "version": "3.8.8"
  }
 },
 "nbformat": 4,
 "nbformat_minor": 5
}
