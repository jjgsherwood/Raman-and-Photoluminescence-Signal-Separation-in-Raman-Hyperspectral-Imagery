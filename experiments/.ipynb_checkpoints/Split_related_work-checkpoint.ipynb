{
 "cells": [
  {
   "cell_type": "code",
   "execution_count": 1,
   "id": "178f7753",
   "metadata": {
    "scrolled": true
   },
   "outputs": [
    {
     "data": {
      "text/html": [
       "<style>.container { width:98% !important; }</style>"
      ],
      "text/plain": [
       "<IPython.core.display.HTML object>"
      ]
     },
     "metadata": {},
     "output_type": "display_data"
    }
   ],
   "source": [
    "from load_modules import *\n",
    "import copy"
   ]
  },
  {
   "cell_type": "code",
   "execution_count": 2,
   "id": "e3572f3c",
   "metadata": {
    "scrolled": true
   },
   "outputs": [
    {
     "name": "stdout",
     "output_type": "stream",
     "text": [
      "start loading data, number of files 51\n",
      "opening file 1 of 51: ../../data/Raman_Mouse/noise_removed_used_for_tests/Liver_map_150z25_60s_#12.txt\n",
      "loaded  file 1 of 51: ../../data/Raman_Mouse/noise_removed_used_for_tests/Liver_map_150z25_60s_#12.txt\n",
      "opening file 2 of 51: ../../data/Raman_Mouse/noise_removed_used_for_tests/Muscle_map_150z25_60s_#34.txt\n",
      "loaded  file 2 of 51: ../../data/Raman_Mouse/noise_removed_used_for_tests/Muscle_map_150z25_60s_#34.txt\n",
      "opening file 3 of 51: ../../data/Raman_Mouse/noise_removed_used_for_tests/Kidney_map_150z25_60s_#45.txt\n",
      "loaded  file 3 of 51: ../../data/Raman_Mouse/noise_removed_used_for_tests/Kidney_map_150z25_60s_#45.txt\n",
      "opening file 4 of 51: ../../data/Raman_Mouse/noise_removed_used_for_tests/Kidney_map_150z25_60s_#43.txt\n",
      "loaded  file 4 of 51: ../../data/Raman_Mouse/noise_removed_used_for_tests/Kidney_map_150z25_60s_#43.txt\n",
      "opening file 5 of 51: ../../data/Raman_Mouse/noise_removed_used_for_tests/Liver_map_150x25_60s_#13.txt\n",
      "loaded  file 5 of 51: ../../data/Raman_Mouse/noise_removed_used_for_tests/Liver_map_150x25_60s_#13.txt\n",
      "opening file 6 of 51: ../../data/Raman_Mouse/noise_removed_used_for_tests/Muscle_map_150z25_60s_#27.txt\n",
      "loaded  file 6 of 51: ../../data/Raman_Mouse/noise_removed_used_for_tests/Muscle_map_150z25_60s_#27.txt\n",
      "opening file 7 of 51: ../../data/Raman_Mouse/noise_removed_used_for_tests/Kidney_map_150z25_60s_#39.txt\n",
      "loaded  file 7 of 51: ../../data/Raman_Mouse/noise_removed_used_for_tests/Kidney_map_150z25_60s_#39.txt\n",
      "opening file 8 of 51: ../../data/Raman_Mouse/noise_removed_used_for_tests/Liver_map_150z25_60s_#2.txt\n",
      "loaded  file 8 of 51: ../../data/Raman_Mouse/noise_removed_used_for_tests/Liver_map_150z25_60s_#2.txt\n",
      "opening file 9 of 51: ../../data/Raman_Mouse/noise_removed_used_for_tests/Muscle_map_150z25_60s_#19.txt\n",
      "loaded  file 9 of 51: ../../data/Raman_Mouse/noise_removed_used_for_tests/Muscle_map_150z25_60s_#19.txt\n",
      "opening file 10 of 51: ../../data/Raman_Mouse/noise_removed_used_for_tests/Liver_map_150z25_60s_#01.txt\n",
      "loaded  file 10 of 51: ../../data/Raman_Mouse/noise_removed_used_for_tests/Liver_map_150z25_60s_#01.txt\n",
      "opening file 11 of 51: ../../data/Raman_Mouse/noise_removed_used_for_tests/Liver_map_150z25_60s_#03.txt\n",
      "loaded  file 11 of 51: ../../data/Raman_Mouse/noise_removed_used_for_tests/Liver_map_150z25_60s_#03.txt\n",
      "opening file 12 of 51: ../../data/Raman_Mouse/noise_removed_used_for_tests/Muscle_map_150z25_60s_#25.txt\n",
      "loaded  file 12 of 51: ../../data/Raman_Mouse/noise_removed_used_for_tests/Muscle_map_150z25_60s_#25.txt\n",
      "opening file 13 of 51: ../../data/Raman_Mouse/noise_removed_used_for_tests/Kidney_map_150z25_60s_#36.txt\n",
      "loaded  file 13 of 51: ../../data/Raman_Mouse/noise_removed_used_for_tests/Kidney_map_150z25_60s_#36.txt\n",
      "opening file 14 of 51: ../../data/Raman_Mouse/noise_removed_used_for_tests/Liver_map_150x25_60s_#9.txt\n",
      "loaded  file 14 of 51: ../../data/Raman_Mouse/noise_removed_used_for_tests/Liver_map_150x25_60s_#9.txt\n",
      "opening file 15 of 51: ../../data/Raman_Mouse/noise_removed_used_for_tests/Liver_map_150z25_60s_#8.txt\n",
      "loaded  file 15 of 51: ../../data/Raman_Mouse/noise_removed_used_for_tests/Liver_map_150z25_60s_#8.txt\n",
      "opening file 16 of 51: ../../data/Raman_Mouse/noise_removed_used_for_tests/Muscle_map_150z25_60s_#20.txt\n",
      "loaded  file 16 of 51: ../../data/Raman_Mouse/noise_removed_used_for_tests/Muscle_map_150z25_60s_#20.txt\n",
      "opening file 17 of 51: ../../data/Raman_Mouse/noise_removed_used_for_tests/Kidney_map_150z25_60s_#47.txt\n",
      "loaded  file 17 of 51: ../../data/Raman_Mouse/noise_removed_used_for_tests/Kidney_map_150z25_60s_#47.txt\n",
      "opening file 18 of 51: ../../data/Raman_Mouse/noise_removed_used_for_tests/Liver_map_150z25_60s_#15.txt\n",
      "loaded  file 18 of 51: ../../data/Raman_Mouse/noise_removed_used_for_tests/Liver_map_150z25_60s_#15.txt\n",
      "opening file 19 of 51: ../../data/Raman_Mouse/noise_removed_used_for_tests/Muscle_map_150z25_60s_#30.txt\n",
      "loaded  file 19 of 51: ../../data/Raman_Mouse/noise_removed_used_for_tests/Muscle_map_150z25_60s_#30.txt\n",
      "opening file 20 of 51: ../../data/Raman_Mouse/noise_removed_used_for_tests/Muscle_map_150z25_60s_#21.txt\n",
      "loaded  file 20 of 51: ../../data/Raman_Mouse/noise_removed_used_for_tests/Muscle_map_150z25_60s_#21.txt\n",
      "opening file 21 of 51: ../../data/Raman_Mouse/noise_removed_used_for_tests/Muscle_map_150z25_60s_#32.txt\n",
      "loaded  file 21 of 51: ../../data/Raman_Mouse/noise_removed_used_for_tests/Muscle_map_150z25_60s_#32.txt\n",
      "opening file 22 of 51: ../../data/Raman_Mouse/noise_removed_used_for_tests/Liver_map_150z25_60s_#14.txt\n",
      "loaded  file 22 of 51: ../../data/Raman_Mouse/noise_removed_used_for_tests/Liver_map_150z25_60s_#14.txt\n",
      "opening file 23 of 51: ../../data/Raman_Mouse/noise_removed_used_for_tests/Liver_map_150z25_60s_#6.txt\n",
      "loaded  file 23 of 51: ../../data/Raman_Mouse/noise_removed_used_for_tests/Liver_map_150z25_60s_#6.txt\n",
      "opening file 24 of 51: ../../data/Raman_Mouse/noise_removed_used_for_tests/Kidney_map_150z25_60s_#37.txt\n",
      "loaded  file 24 of 51: ../../data/Raman_Mouse/noise_removed_used_for_tests/Kidney_map_150z25_60s_#37.txt\n",
      "opening file 25 of 51: ../../data/Raman_Mouse/noise_removed_used_for_tests/Muscle_map_150z25_60s_#22.txt\n",
      "loaded  file 25 of 51: ../../data/Raman_Mouse/noise_removed_used_for_tests/Muscle_map_150z25_60s_#22.txt\n",
      "opening file 26 of 51: ../../data/Raman_Mouse/noise_removed_used_for_tests/Muscle_map_150z25_60s_#24.txt\n",
      "loaded  file 26 of 51: ../../data/Raman_Mouse/noise_removed_used_for_tests/Muscle_map_150z25_60s_#24.txt\n",
      "opening file 27 of 51: ../../data/Raman_Mouse/noise_removed_used_for_tests/Muscle_map_150z25_60s_#28.txt\n",
      "loaded  file 27 of 51: ../../data/Raman_Mouse/noise_removed_used_for_tests/Muscle_map_150z25_60s_#28.txt\n",
      "opening file 28 of 51: ../../data/Raman_Mouse/noise_removed_used_for_tests/Kidney_map_150z25_60s_#40.txt\n",
      "loaded  file 28 of 51: ../../data/Raman_Mouse/noise_removed_used_for_tests/Kidney_map_150z25_60s_#40.txt\n",
      "opening file 29 of 51: ../../data/Raman_Mouse/noise_removed_used_for_tests/Kidney_map_150z25_60s_#38.txt\n",
      "loaded  file 29 of 51: ../../data/Raman_Mouse/noise_removed_used_for_tests/Kidney_map_150z25_60s_#38.txt\n",
      "opening file 30 of 51: ../../data/Raman_Mouse/noise_removed_used_for_tests/Muscle_map_150z25_60s_#18.txt\n",
      "loaded  file 30 of 51: ../../data/Raman_Mouse/noise_removed_used_for_tests/Muscle_map_150z25_60s_#18.txt\n",
      "opening file 31 of 51: ../../data/Raman_Mouse/noise_removed_used_for_tests/Muscle_map_150z25_60s_#29.txt\n",
      "loaded  file 31 of 51: ../../data/Raman_Mouse/noise_removed_used_for_tests/Muscle_map_150z25_60s_#29.txt\n",
      "opening file 32 of 51: ../../data/Raman_Mouse/noise_removed_used_for_tests/Muscle_map_150z25_60s_#33.txt\n",
      "loaded  file 32 of 51: ../../data/Raman_Mouse/noise_removed_used_for_tests/Muscle_map_150z25_60s_#33.txt\n",
      "opening file 33 of 51: ../../data/Raman_Mouse/noise_removed_used_for_tests/Kidney_map_150z25_60s_#51.txt\n",
      "loaded  file 33 of 51: ../../data/Raman_Mouse/noise_removed_used_for_tests/Kidney_map_150z25_60s_#51.txt\n",
      "opening file 34 of 51: ../../data/Raman_Mouse/noise_removed_used_for_tests/Muscle_map_150z25_60s_#31.txt\n",
      "loaded  file 34 of 51: ../../data/Raman_Mouse/noise_removed_used_for_tests/Muscle_map_150z25_60s_#31.txt\n",
      "opening file 35 of 51: ../../data/Raman_Mouse/noise_removed_used_for_tests/Liver_map_150z25_60s_#11.txt\n",
      "loaded  file 35 of 51: ../../data/Raman_Mouse/noise_removed_used_for_tests/Liver_map_150z25_60s_#11.txt\n",
      "opening file 36 of 51: ../../data/Raman_Mouse/noise_removed_used_for_tests/Liver_map_150z25_60s_#17.txt\n",
      "loaded  file 36 of 51: ../../data/Raman_Mouse/noise_removed_used_for_tests/Liver_map_150z25_60s_#17.txt\n",
      "opening file 37 of 51: ../../data/Raman_Mouse/noise_removed_used_for_tests/Liver_map_150x25_60s_#7.txt\n",
      "loaded  file 37 of 51: ../../data/Raman_Mouse/noise_removed_used_for_tests/Liver_map_150x25_60s_#7.txt\n",
      "opening file 38 of 51: ../../data/Raman_Mouse/noise_removed_used_for_tests/Kidney_map_150z25_60s_#50.txt\n",
      "loaded  file 38 of 51: ../../data/Raman_Mouse/noise_removed_used_for_tests/Kidney_map_150z25_60s_#50.txt\n",
      "opening file 39 of 51: ../../data/Raman_Mouse/noise_removed_used_for_tests/Kidney_map_150z25_60s_#44.txt\n",
      "loaded  file 39 of 51: ../../data/Raman_Mouse/noise_removed_used_for_tests/Kidney_map_150z25_60s_#44.txt\n",
      "opening file 40 of 51: ../../data/Raman_Mouse/noise_removed_used_for_tests/Liver_map_150x25_60s_#10.txt\n"
     ]
    },
    {
     "name": "stdout",
     "output_type": "stream",
     "text": [
      "loaded  file 40 of 51: ../../data/Raman_Mouse/noise_removed_used_for_tests/Liver_map_150x25_60s_#10.txt\n",
      "opening file 41 of 51: ../../data/Raman_Mouse/noise_removed_used_for_tests/Muscle_map_150z25_60s_#23.txt\n",
      "loaded  file 41 of 51: ../../data/Raman_Mouse/noise_removed_used_for_tests/Muscle_map_150z25_60s_#23.txt\n",
      "opening file 42 of 51: ../../data/Raman_Mouse/noise_removed_used_for_tests/Kidney_map_150z25_60s_#48.txt\n",
      "loaded  file 42 of 51: ../../data/Raman_Mouse/noise_removed_used_for_tests/Kidney_map_150z25_60s_#48.txt\n",
      "opening file 43 of 51: ../../data/Raman_Mouse/noise_removed_used_for_tests/Kidney_map_150z25_60s_#42.txt\n",
      "loaded  file 43 of 51: ../../data/Raman_Mouse/noise_removed_used_for_tests/Kidney_map_150z25_60s_#42.txt\n",
      "opening file 44 of 51: ../../data/Raman_Mouse/noise_removed_used_for_tests/Muscle_map_150z25_60s_#26.txt\n",
      "loaded  file 44 of 51: ../../data/Raman_Mouse/noise_removed_used_for_tests/Muscle_map_150z25_60s_#26.txt\n",
      "opening file 45 of 51: ../../data/Raman_Mouse/noise_removed_used_for_tests/Liver_map_150z25_60s_#16.txt\n",
      "loaded  file 45 of 51: ../../data/Raman_Mouse/noise_removed_used_for_tests/Liver_map_150z25_60s_#16.txt\n",
      "opening file 46 of 51: ../../data/Raman_Mouse/noise_removed_used_for_tests/Liver_map_150z25_60s_#05.txt\n",
      "loaded  file 46 of 51: ../../data/Raman_Mouse/noise_removed_used_for_tests/Liver_map_150z25_60s_#05.txt\n",
      "opening file 47 of 51: ../../data/Raman_Mouse/noise_removed_used_for_tests/Kidney_map_150z25_60s_#49.txt\n",
      "loaded  file 47 of 51: ../../data/Raman_Mouse/noise_removed_used_for_tests/Kidney_map_150z25_60s_#49.txt\n",
      "opening file 48 of 51: ../../data/Raman_Mouse/noise_removed_used_for_tests/Kidney_map_150z25_60s_#46.txt\n",
      "loaded  file 48 of 51: ../../data/Raman_Mouse/noise_removed_used_for_tests/Kidney_map_150z25_60s_#46.txt\n",
      "opening file 49 of 51: ../../data/Raman_Mouse/noise_removed_used_for_tests/Kidney_map_150z25_60s_#41.txt\n",
      "loaded  file 49 of 51: ../../data/Raman_Mouse/noise_removed_used_for_tests/Kidney_map_150z25_60s_#41.txt\n",
      "opening file 50 of 51: ../../data/Raman_Mouse/noise_removed_used_for_tests/Liver_map_150z25_60s_#4.txt\n",
      "loaded  file 50 of 51: ../../data/Raman_Mouse/noise_removed_used_for_tests/Liver_map_150z25_60s_#4.txt\n",
      "opening file 51 of 51: ../../data/Raman_Mouse/noise_removed_used_for_tests/Kidney_map_150z25_60s_#35.txt\n",
      "loaded  file 51 of 51: ../../data/Raman_Mouse/noise_removed_used_for_tests/Kidney_map_150z25_60s_#35.txt\n"
     ]
    }
   ],
   "source": [
    "# filenames = [\"../../data/Raman_Mouse/noise_removed_used_for_tests/Kidney_map_150z25_60s_#35.txt\"] \n",
    "file_location = \"../../data/Raman_Mouse/noise_removed_used_for_tests/\"\n",
    "filenames =  [f for f in glob.glob(file_location + \"/*.txt\") if \"metadata\" not in f.lower()]\n",
    "data = load_files([filenames], True)\n"
   ]
  },
  {
   "cell_type": "code",
   "execution_count": 3,
   "id": "42189135",
   "metadata": {},
   "outputs": [],
   "source": [
    "x = data[1][0]\n",
    "raw_lst = []\n",
    "for i in range(len(filenames)):\n",
    "    raw_lst += [data[0][i].reshape(-1,data[0][0].shape[-1])]\n"
   ]
  },
  {
   "cell_type": "code",
   "execution_count": 6,
   "id": "374c2e99",
   "metadata": {
    "scrolled": true
   },
   "outputs": [
    {
     "ename": "KeyboardInterrupt",
     "evalue": "",
     "output_type": "error",
     "traceback": [
      "\u001b[0;31m---------------------------------------------------------------------------\u001b[0m",
      "\u001b[0;31mKeyboardInterrupt\u001b[0m                         Traceback (most recent call last)",
      "\u001b[0;32m<ipython-input-6-37d58c218e9d>\u001b[0m in \u001b[0;36m<module>\u001b[0;34m\u001b[0m\n\u001b[1;32m     11\u001b[0m     \u001b[0mphoto_tmp\u001b[0m \u001b[0;34m=\u001b[0m \u001b[0;34m[\u001b[0m\u001b[0;34m]\u001b[0m\u001b[0;34m\u001b[0m\u001b[0;34m\u001b[0m\u001b[0m\n\u001b[1;32m     12\u001b[0m     \u001b[0;32mfor\u001b[0m \u001b[0mraw\u001b[0m \u001b[0;32min\u001b[0m \u001b[0mimage\u001b[0m\u001b[0;34m.\u001b[0m\u001b[0mreshape\u001b[0m\u001b[0;34m(\u001b[0m\u001b[0;34m-\u001b[0m\u001b[0;36m1\u001b[0m\u001b[0;34m,\u001b[0m \u001b[0mlen\u001b[0m\u001b[0;34m(\u001b[0m\u001b[0mx\u001b[0m\u001b[0;34m)\u001b[0m\u001b[0;34m)\u001b[0m\u001b[0;34m:\u001b[0m\u001b[0;34m\u001b[0m\u001b[0;34m\u001b[0m\u001b[0m\n\u001b[0;32m---> 13\u001b[0;31m         \u001b[0mphoto_tmp\u001b[0m\u001b[0;34m.\u001b[0m\u001b[0mappend\u001b[0m\u001b[0;34m(\u001b[0m\u001b[0mderpsalsa\u001b[0m\u001b[0;34m.\u001b[0m\u001b[0mderpsalsa_baseline\u001b[0m\u001b[0;34m(\u001b[0m\u001b[0mx\u001b[0m\u001b[0;34m,\u001b[0m \u001b[0mraw\u001b[0m\u001b[0;34m,\u001b[0m \u001b[0mals_lambda\u001b[0m\u001b[0;34m=\u001b[0m\u001b[0;36m1e3\u001b[0m\u001b[0;34m,\u001b[0m \u001b[0mals_p_weight\u001b[0m\u001b[0;34m=\u001b[0m\u001b[0;36m1e-5\u001b[0m\u001b[0;34m,\u001b[0m \u001b[0mdisplay\u001b[0m\u001b[0;34m=\u001b[0m\u001b[0;36m0\u001b[0m\u001b[0;34m)\u001b[0m\u001b[0;34m)\u001b[0m\u001b[0;34m\u001b[0m\u001b[0;34m\u001b[0m\u001b[0m\n\u001b[0m\u001b[1;32m     14\u001b[0m     \u001b[0mphoto\u001b[0m\u001b[0;34m.\u001b[0m\u001b[0mappend\u001b[0m\u001b[0;34m(\u001b[0m\u001b[0mnp\u001b[0m\u001b[0;34m.\u001b[0m\u001b[0marray\u001b[0m\u001b[0;34m(\u001b[0m\u001b[0mphoto_tmp\u001b[0m\u001b[0;34m)\u001b[0m\u001b[0;34m.\u001b[0m\u001b[0mreshape\u001b[0m\u001b[0;34m(\u001b[0m\u001b[0;34m*\u001b[0m\u001b[0mshape\u001b[0m\u001b[0;34m)\u001b[0m\u001b[0;34m)\u001b[0m\u001b[0;34m\u001b[0m\u001b[0;34m\u001b[0m\u001b[0m\n\u001b[1;32m     15\u001b[0m     \u001b[0mprint\u001b[0m\u001b[0;34m(\u001b[0m\u001b[0mphoto\u001b[0m\u001b[0;34m[\u001b[0m\u001b[0;34m-\u001b[0m\u001b[0;36m1\u001b[0m\u001b[0;34m]\u001b[0m\u001b[0;34m.\u001b[0m\u001b[0mshape\u001b[0m\u001b[0;34m)\u001b[0m\u001b[0;34m\u001b[0m\u001b[0;34m\u001b[0m\u001b[0m\n",
      "\u001b[0;32m~/Documents/Master_thesis/signal_processing/derpsalsa.py\u001b[0m in \u001b[0;36mderpsalsa_baseline\u001b[0;34m(x, y, display, als_lambda, als_p_weight)\u001b[0m\n\u001b[1;32m     50\u001b[0m         \u001b[0mW\u001b[0m\u001b[0;34m.\u001b[0m\u001b[0msetdiag\u001b[0m\u001b[0;34m(\u001b[0m\u001b[0mw\u001b[0m\u001b[0;34m)\u001b[0m\u001b[0;34m\u001b[0m\u001b[0;34m\u001b[0m\u001b[0m\n\u001b[1;32m     51\u001b[0m         \u001b[0mZ\u001b[0m \u001b[0;34m=\u001b[0m \u001b[0mW\u001b[0m \u001b[0;34m+\u001b[0m \u001b[0mD\u001b[0m\u001b[0;34m\u001b[0m\u001b[0;34m\u001b[0m\u001b[0m\n\u001b[0;32m---> 52\u001b[0;31m         \u001b[0mz\u001b[0m \u001b[0;34m=\u001b[0m \u001b[0mspsolve\u001b[0m\u001b[0;34m(\u001b[0m\u001b[0mZ\u001b[0m\u001b[0;34m,\u001b[0m \u001b[0mw\u001b[0m\u001b[0;34m*\u001b[0m\u001b[0my\u001b[0m\u001b[0;34m)\u001b[0m\u001b[0;34m\u001b[0m\u001b[0;34m\u001b[0m\u001b[0m\n\u001b[0m\u001b[1;32m     53\u001b[0m         \u001b[0mw\u001b[0m \u001b[0;34m=\u001b[0m \u001b[0mals_p_weight\u001b[0m \u001b[0;34m*\u001b[0m \u001b[0mweifunc\u001b[0m \u001b[0;34m*\u001b[0m \u001b[0mnp\u001b[0m\u001b[0;34m.\u001b[0m\u001b[0mexp\u001b[0m\u001b[0;34m(\u001b[0m\u001b[0;34m-\u001b[0m\u001b[0;34m(\u001b[0m\u001b[0;34m(\u001b[0m\u001b[0my\u001b[0m\u001b[0;34m-\u001b[0m\u001b[0mz\u001b[0m\u001b[0;34m)\u001b[0m\u001b[0;34m/\u001b[0m\u001b[0mpeakscreen_amplitude\u001b[0m\u001b[0;34m)\u001b[0m\u001b[0;34m**\u001b[0m\u001b[0;36m2\u001b[0m\u001b[0;34m/\u001b[0m\u001b[0;36m2\u001b[0m\u001b[0;34m)\u001b[0m \u001b[0;34m*\u001b[0m \u001b[0;34m(\u001b[0m\u001b[0my\u001b[0m \u001b[0;34m>\u001b[0m \u001b[0mz\u001b[0m\u001b[0;34m)\u001b[0m \u001b[0;34m+\u001b[0m \u001b[0;34m(\u001b[0m\u001b[0;36m1\u001b[0m\u001b[0;34m-\u001b[0m\u001b[0mals_p_weight\u001b[0m\u001b[0;34m)\u001b[0m \u001b[0;34m*\u001b[0m \u001b[0;34m(\u001b[0m\u001b[0my\u001b[0m \u001b[0;34m<\u001b[0m \u001b[0mz\u001b[0m\u001b[0;34m)\u001b[0m\u001b[0;34m\u001b[0m\u001b[0;34m\u001b[0m\u001b[0m\n\u001b[1;32m     54\u001b[0m     \u001b[0mbaseline\u001b[0m \u001b[0;34m=\u001b[0m \u001b[0mz\u001b[0m\u001b[0;34m\u001b[0m\u001b[0;34m\u001b[0m\u001b[0m\n",
      "\u001b[0;32m~/anaconda3/lib/python3.8/site-packages/scipy/sparse/linalg/dsolve/linsolve.py\u001b[0m in \u001b[0;36mspsolve\u001b[0;34m(A, b, permc_spec, use_umfpack)\u001b[0m\n\u001b[1;32m    201\u001b[0m \u001b[0;34m\u001b[0m\u001b[0m\n\u001b[1;32m    202\u001b[0m             \u001b[0moptions\u001b[0m \u001b[0;34m=\u001b[0m \u001b[0mdict\u001b[0m\u001b[0;34m(\u001b[0m\u001b[0mColPerm\u001b[0m\u001b[0;34m=\u001b[0m\u001b[0mpermc_spec\u001b[0m\u001b[0;34m)\u001b[0m\u001b[0;34m\u001b[0m\u001b[0;34m\u001b[0m\u001b[0m\n\u001b[0;32m--> 203\u001b[0;31m             x, info = _superlu.gssv(N, A.nnz, A.data, A.indices, A.indptr,\n\u001b[0m\u001b[1;32m    204\u001b[0m                                     b, flag, options=options)\n\u001b[1;32m    205\u001b[0m             \u001b[0;32mif\u001b[0m \u001b[0minfo\u001b[0m \u001b[0;34m!=\u001b[0m \u001b[0;36m0\u001b[0m\u001b[0;34m:\u001b[0m\u001b[0;34m\u001b[0m\u001b[0;34m\u001b[0m\u001b[0m\n",
      "\u001b[0;31mKeyboardInterrupt\u001b[0m: "
     ]
    }
   ],
   "source": [
    "from BaselineRemoval import BaselineRemoval\n",
    "\n",
    "plt.rcParams['figure.figsize'] = (8.0, 4.0)\n",
    "plt.rcParams['figure.dpi'] = 200\n",
    "plt.rcParams['lines.linewidth'] = 1\n",
    "\n",
    "photo = []\n",
    "shape = data[0][0].shape\n",
    "\n",
    "for image in raw_lst:\n",
    "    photo_tmp = []\n",
    "    for raw in image.reshape(-1, len(x)):\n",
    "        photo_tmp.append(derpsalsa.derpsalsa_baseline(x, raw, als_lambda=1e3, als_p_weight=1e-5, display=0))\n",
    "    photo.append(np.array(photo_tmp).reshape(*shape))\n",
    "    print(photo[-1].shape)\n",
    "    break\n",
    "    \n",
    "photo = np.array(photo)\n",
    "        \n",
    "# baseObj = BaselineRemoval(raw)\n",
    "# photo_zhangfit = raw - baseObj.ZhangFit(lambda_=50, itermax=30)\n",
    "\n",
    "shapes = [raw[0].shape[:-1]]\n",
    "save_variables = {}\n",
    "text = \"split ALS real data\"\n",
    "save_variables[\"save_dir\"] = \"../../data/Raman_Mouse/\"\n",
    "save_variables[\"save_as_txt\"] = True\n",
    "save_variables[\"save_as_numpy\"] = False\n",
    "save_variables['save_as_txt_fmt'] = f\"%10.6f\"\n",
    "save_data(photo, x, shapes, filenames, save_variables, text, name=\"real_photo_ALS_\")\n",
    "\n",
    "\n",
    "\n",
    "    \n"
   ]
  },
  {
   "cell_type": "code",
   "execution_count": null,
   "id": "c5338030",
   "metadata": {},
   "outputs": [],
   "source": []
  },
  {
   "cell_type": "code",
   "execution_count": null,
   "id": "81c12b30",
   "metadata": {},
   "outputs": [],
   "source": []
  }
 ],
 "metadata": {
  "kernelspec": {
   "display_name": "Python 3",
   "language": "python",
   "name": "python3"
  },
  "language_info": {
   "codemirror_mode": {
    "name": "ipython",
    "version": 3
   },
   "file_extension": ".py",
   "mimetype": "text/x-python",
   "name": "python",
   "nbconvert_exporter": "python",
   "pygments_lexer": "ipython3",
   "version": "3.8.8"
  }
 },
 "nbformat": 4,
 "nbformat_minor": 5
}
