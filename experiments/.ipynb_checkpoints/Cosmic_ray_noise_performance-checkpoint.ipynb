{
 "cells": [
  {
   "cell_type": "code",
   "execution_count": 1,
   "id": "3ff4170d",
   "metadata": {},
   "outputs": [],
   "source": [
    "from load_modules import * \n",
    "from collections import defaultdict"
   ]
  },
  {
   "cell_type": "code",
   "execution_count": 2,
   "id": "e572a715",
   "metadata": {
    "scrolled": true
   },
   "outputs": [
    {
     "name": "stdout",
     "output_type": "stream",
     "text": [
      "start loading data, number of files 1\n",
      "opening file 1 of 1: ../../data/Raman_Mouse/cosmic_ray_test/Kidney_map_150z25_60s_#35.txt\n",
      "loaded  file 1 of 1: ../../data/Raman_Mouse/cosmic_ray_test/Kidney_map_150z25_60s_#35.txt\n"
     ]
    }
   ],
   "source": [
    "filenames = [\"../../data/Raman_Mouse/cosmic_ray_test/Kidney_map_150z25_60s_#35.txt\"]\n",
    "data = load_files([filenames], True)\n",
    "\n",
    "\n",
    "plt.rcParams['figure.figsize'] = (10.0, 3.0)\n",
    "plt.rcParams['figure.dpi'] = 250\n",
    "plt.rcParams['lines.linewidth'] = 0.8\n"
   ]
  },
  {
   "cell_type": "code",
   "execution_count": 3,
   "id": "e399123f",
   "metadata": {},
   "outputs": [],
   "source": [
    "img, wavenumbers = data[0][0], data[1][0]"
   ]
  },
  {
   "cell_type": "code",
   "execution_count": 61,
   "id": "5753749f",
   "metadata": {
    "scrolled": false
   },
   "outputs": [
    {
     "data": {
      "text/plain": [
       "122"
      ]
     },
     "execution_count": 61,
     "metadata": {},
     "output_type": "execute_result"
    }
   ],
   "source": [
    "# stats to removal all cosmic ray noise (produces a very few false positives or noise detections)\n",
    "cosmicray_removal = CosmicrayCorrection.remove_cosmicrays(wavenumbers, \n",
    "                                                          n_times=5.5,\n",
    "                                                          FWHM_smoothing=3,\n",
    "                                                          min_FWHM=6.5,\n",
    "                                                          region_padding=5,\n",
    "                                                          occurrence_percentage=0.005,\n",
    "                                                          interpolate_degree=3)\n",
    "d, t = cosmicray_removal(copy.copy(img))\n",
    "wavenumber, count = np.unique([y for x in t.values() for y, _ in x.items()], return_counts=True)\n",
    "sum(count)\n",
    "# d3, t3 = copy.copy(d), copy.copy(t)"
   ]
  },
  {
   "cell_type": "code",
   "execution_count": 5,
   "id": "18f41c7e",
   "metadata": {
    "scrolled": false
   },
   "outputs": [],
   "source": [
    "# print(sum(count))\n",
    "# for (x,y), values in t.items():\n",
    "# #     if (x,y) not in t3:\n",
    "#     plt.plot(img[x,y])\n",
    "#     plt.plot(d[x,y])\n",
    "#     plt.show()\n"
   ]
  },
  {
   "cell_type": "code",
   "execution_count": 48,
   "id": "22b52722",
   "metadata": {},
   "outputs": [],
   "source": [
    "# add cosmic ray noise\n",
    "def gaussian(x, mu, sigma):\n",
    "    x = np.exp(-0.5* ((x - mu) / sigma)**2)\n",
    "    return x\n",
    "\n",
    "new_img = copy.copy(d)\n",
    "\n",
    "cosmic_noise = set()\n",
    "for _ in range(int(3750*0.05)):\n",
    "    sigma = np.random.uniform(1.0,3.0) / 2.355\n",
    "    height = np.random.uniform(300,2500)\n",
    "    width = np.random.randint(5,35)\n",
    "    location = np.random.randint(25,975)\n",
    "    l, r = location - width//2, location + width//2\n",
    "    x,y = np.random.randint(150), np.random.randint(25)\n",
    "\n",
    "    new_img[x,y][l:r] += gaussian(np.arange(l,r), location, sigma) * height\n",
    "    cosmic_noise.add((x,y,location))"
   ]
  },
  {
   "cell_type": "code",
   "execution_count": 49,
   "id": "102cbbfa",
   "metadata": {
    "scrolled": true
   },
   "outputs": [],
   "source": [
    "# for (x,y), values in cosmic_noise.items():\n",
    "#     print(x,y,values)\n",
    "#     plt.plot(new_img[x,y])\n",
    "#     plt.show()\n"
   ]
  },
  {
   "cell_type": "code",
   "execution_count": 59,
   "id": "b3af1136",
   "metadata": {
    "scrolled": false
   },
   "outputs": [
    {
     "data": {
      "text/plain": [
       "(181, 187)"
      ]
     },
     "execution_count": 59,
     "metadata": {},
     "output_type": "execute_result"
    }
   ],
   "source": [
    "# stats to removal all cosmic ray noise (produces a very few false positives or noise detections)\n",
    "cosmicray_removal = CosmicrayCorrection.remove_cosmicrays(wavenumbers, \n",
    "                                                          n_times=7,\n",
    "                                                          FWHM_smoothing=3,\n",
    "                                                          min_FWHM=7,\n",
    "                                                          region_padding=5,\n",
    "                                                          occurrence_percentage=0.01,\n",
    "                                                          interpolate_degree=3)\n",
    "d2, t2 = cosmicray_removal(copy.copy(new_img))\n",
    "wavenumber, count = np.unique([y for x in t2.values() for y, _ in x.items()], return_counts=True)\n",
    "sum(count), len(cosmic_noise)"
   ]
  },
  {
   "cell_type": "code",
   "execution_count": 51,
   "id": "ca3fdb8f",
   "metadata": {
    "scrolled": false
   },
   "outputs": [
    {
     "name": "stdout",
     "output_type": "stream",
     "text": [
      "total incorrect found cosmic rays 1 0.005434782608695652\n",
      "total unfound cosmic rays 4 0.0213903743315508\n"
     ]
    }
   ],
   "source": [
    "i = 0\n",
    "for (x,y), values in t2.items():\n",
    "    for v in values:\n",
    "        if (x,y,v) not in cosmic_noise:\n",
    "#             print(\"incorrectly found cosmic rays\",x,y,v)\n",
    "#             plt.plot(new_img[x,y])\n",
    "#             plt.plot(d2[x,y])\n",
    "#             plt.show()\n",
    "            i += 1\n",
    "print(f\"total incorrect found cosmic rays {i} {i/sum(count)}\")\n",
    "\n",
    "i = 0\n",
    "for x,y,v in cosmic_noise:\n",
    "    if (x,y) not in t2:\n",
    "#         print(\"unfound cosmic rays\", x,y,v)\n",
    "#         plt.plot(new_img[x,y])\n",
    "#         plt.plot(d2[x,y])\n",
    "#         plt.show()\n",
    "        i += 1\n",
    "    elif v not in t2[x,y]:\n",
    "        for v2 in t2[x,y]:\n",
    "            if abs(v - v2) < 30:\n",
    "                break\n",
    "        else:\n",
    "#             print(\"unfound cosmic rays\", x,y,v)\n",
    "#             plt.plot(new_img[x,y])\n",
    "#             plt.plot(d2[x,y])\n",
    "#             plt.show()\n",
    "            i += 1\n",
    "print(f\"total unfound cosmic rays {i} {i/len(cosmic_noise)}\")\n",
    "\n",
    "\n"
   ]
  },
  {
   "cell_type": "code",
   "execution_count": 53,
   "id": "bf980b32",
   "metadata": {},
   "outputs": [
    {
     "data": {
      "text/plain": [
       "(1.56148677740615, 4.68446033221845, 2.5616611410853984)"
      ]
     },
     "execution_count": 53,
     "metadata": {},
     "output_type": "execute_result"
    }
   ],
   "source": [
    "# translate index to wavenumber\n",
    "delta_w = (wavenumbers[-1] - wavenumbers[0]) / len(wavenumbers)\n",
    "1 * delta_w, 3.0 *delta_w, 4/delta_w"
   ]
  },
  {
   "cell_type": "code",
   "execution_count": 54,
   "id": "1f7f7af0",
   "metadata": {},
   "outputs": [],
   "source": [
    "found_lst = []\n",
    "incorrect_found_lst = []\n",
    "unfound_lst = []\n",
    "number_of_cosmic_gen = int(3750*0.05)\n",
    "for _ in range(100):\n",
    "    new_img = copy.copy(d)\n",
    "\n",
    "    cosmic_noise = set()\n",
    "    for _ in range(int(3750*0.05)):\n",
    "        sigma = np.random.uniform(1.0,4.0) / 2.355\n",
    "        height = np.random.uniform(300,2500)\n",
    "        width = np.random.randint(5,35)\n",
    "        location = np.random.randint(25,975)\n",
    "        l, r = location - width//2, location + width//2\n",
    "        x,y = np.random.randint(150), np.random.randint(25)\n",
    "\n",
    "        new_img[x,y][l:r] += gaussian(np.arange(l,r), location, sigma) * height\n",
    "        cosmic_noise.add((x,y,location))\n",
    "        \n",
    "    # stats to removal all cosmic ray noise (produces a very few false positives or noise detections)\n",
    "    cosmicray_removal = CosmicrayCorrection.remove_cosmicrays(wavenumbers, \n",
    "                                                              n_times=7,\n",
    "                                                              FWHM_smoothing=3,\n",
    "                                                              min_FWHM=7,\n",
    "                                                              region_padding=5,\n",
    "                                                              occurrence_percentage=0.01,\n",
    "                                                              interpolate_degree=3)\n",
    "    d2, t2 = cosmicray_removal(copy.copy(new_img))\n",
    "    wavenumber, count = np.unique([y for x in t2.values() for y, _ in x.items()], return_counts=True)\n",
    "    found_lst.append(sum(count)) \n",
    "    \n",
    "    i = 0\n",
    "    for (x,y), values in t2.items():\n",
    "        for v in values:\n",
    "            if (x,y,v) not in cosmic_noise:\n",
    "                i += 1\n",
    "    incorrect_found_lst.append(i)\n",
    "\n",
    "    i = 0\n",
    "    for x,y,v in cosmic_noise:\n",
    "        if (x,y) not in t2:\n",
    "            i += 1\n",
    "        elif v not in t2[x,y]:\n",
    "            for v2 in t2[x,y]:\n",
    "                if abs(v - v2) < 30:\n",
    "                    break\n",
    "            else:\n",
    "                i += 1\n",
    "    unfound_lst.append(i)"
   ]
  },
  {
   "cell_type": "code",
   "execution_count": 55,
   "id": "58bffa3e",
   "metadata": {},
   "outputs": [
    {
     "data": {
      "text/plain": [
       "(0.9661497326203211,\n",
       " 0.013423525108465862,\n",
       " 0.0203507568282365,\n",
       " 0.009428247683465783,\n",
       " 0.033850267379679146,\n",
       " 0.013423525108465856)"
      ]
     },
     "execution_count": 55,
     "metadata": {},
     "output_type": "execute_result"
    }
   ],
   "source": [
    "# for i in range(100):\n",
    "#     print(incorrect_found_lst[i] / found_lst[i],\"\\t\", unfound_lst[i] / number_of_cosmic_gen)\n",
    "\n",
    "incorrect = np.array(incorrect_found_lst) / np.array(found_lst)\n",
    "unfound = np.array(unfound_lst) / number_of_cosmic_gen\n",
    "np.mean(1-unfound), np.std(1-unfound), np.mean(incorrect), np.std(incorrect), np.mean(unfound), np.std(unfound)"
   ]
  },
  {
   "cell_type": "code",
   "execution_count": 56,
   "id": "dfc846f7",
   "metadata": {},
   "outputs": [
    {
     "data": {
      "text/plain": [
       "(180.67, 3.76, 6.33, 183.99, 187)"
      ]
     },
     "execution_count": 56,
     "metadata": {},
     "output_type": "execute_result"
    }
   ],
   "source": [
    "number_of_cosmic_gen - np.mean(unfound_lst),np.mean(incorrect_found_lst), np.mean(unfound_lst), np.mean(found_lst), number_of_cosmic_gen"
   ]
  },
  {
   "cell_type": "code",
   "execution_count": 57,
   "id": "fb102380",
   "metadata": {},
   "outputs": [
    {
     "data": {
      "text/plain": [
       "(1.7726815844928272, 2.510199195283115, 3.144821139588069)"
      ]
     },
     "execution_count": 57,
     "metadata": {},
     "output_type": "execute_result"
    }
   ],
   "source": [
    "np.std(incorrect_found_lst), np.std(unfound_lst), np.std(found_lst)"
   ]
  },
  {
   "cell_type": "code",
   "execution_count": null,
   "id": "e72fa4a7",
   "metadata": {},
   "outputs": [],
   "source": []
  }
 ],
 "metadata": {
  "kernelspec": {
   "display_name": "Python 3",
   "language": "python",
   "name": "python3"
  },
  "language_info": {
   "codemirror_mode": {
    "name": "ipython",
    "version": 3
   },
   "file_extension": ".py",
   "mimetype": "text/x-python",
   "name": "python",
   "nbconvert_exporter": "python",
   "pygments_lexer": "ipython3",
   "version": "3.8.8"
  }
 },
 "nbformat": 4,
 "nbformat_minor": 5
}
