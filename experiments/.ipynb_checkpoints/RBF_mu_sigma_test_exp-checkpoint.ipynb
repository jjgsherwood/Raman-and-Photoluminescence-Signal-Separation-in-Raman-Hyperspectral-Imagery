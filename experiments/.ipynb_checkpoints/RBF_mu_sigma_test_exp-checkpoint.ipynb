{
 "cells": [
  {
   "cell_type": "code",
   "execution_count": 2,
   "id": "489c2c39",
   "metadata": {},
   "outputs": [],
   "source": [
    "from load_modules import *\n",
    "import copy\n",
    "\n"
   ]
  },
  {
   "cell_type": "markdown",
   "id": "82b694b8",
   "metadata": {},
   "source": [
    "CONCLUSION \n",
    "\n",
    "AT LEAST 0.7"
   ]
  },
  {
   "cell_type": "code",
   "execution_count": 3,
   "id": "2d92c7ae",
   "metadata": {},
   "outputs": [
    {
     "data": {
      "text/plain": [
       "(array([0.1 , 0.15, 0.2 , 0.25, 0.3 , 0.35, 0.4 , 0.45, 0.5 , 0.55, 0.6 ,\n",
       "        0.65, 0.7 , 0.75, 0.8 , 0.85, 0.9 , 0.95]),\n",
       " array([0.99      , 0.96714286, 0.94428571, 0.92142857, 0.89857143,\n",
       "        0.87571429, 0.85285714, 0.83      , 0.8       , 0.78499565,\n",
       "        0.76773998, 0.74789522, 0.72507288, 0.6988262 , 0.66864136,\n",
       "        0.63392749, 0.59400503, 0.54809246, 0.495291  , 0.43456703,\n",
       "        0.36473182, 0.28441828, 0.19205422]))"
      ]
     },
     "execution_count": 3,
     "metadata": {},
     "output_type": "execute_result"
    }
   ],
   "source": [
    "np.arange(0.1,1,0.05), np.concatenate((np.linspace(0.99,0.83,8), .9 - np.logspace(-1,-0.15,15)))"
   ]
  },
  {
   "cell_type": "code",
   "execution_count": 20,
   "id": "925bff1e",
   "metadata": {
    "scrolled": true
   },
   "outputs": [],
   "source": [
    "plt.rcParams['figure.figsize'] = (14.0, 3.0)\n",
    "plt.rcParams['figure.dpi'] = 100\n",
    "plt.rcParams['lines.linewidth'] = 1\n",
    "\n",
    "n = 2000\n",
    "x = np.arange(50, n, 2)\n",
    "\n",
    "raw_lst = []\n",
    "for _ in range(100):\n",
    "    photo = np.random.uniform(10,30) * np.ones(len(x))\n",
    "    raw = copy.copy(photo)\n",
    "#     for _ in range(25):\n",
    "#         FWHM_spike = np.random.uniform(7,50)\n",
    "#         raman_mu = int(n*np.random.uniform(0.1,0.9))\n",
    "#         raw +=  np.random.uniform(10,20) * LSQ.gaussian(x, np.array([raman_mu]), np.array([FWHM_spike / (2 * np.sqrt(2 * np.log(2)))])).reshape(-1)\n",
    "    raw_lst.append((raw, photo))\n",
    "raw_lst = np.array(raw_lst)\n",
    "\n",
    "# for raw in raw_lst:\n",
    "#     plt.plot(raw)\n",
    "#     plt.show()"
   ]
  },
  {
   "cell_type": "code",
   "execution_count": null,
   "id": "729b003b",
   "metadata": {
    "scrolled": true
   },
   "outputs": [],
   "source": [
    "error_lst = []\n",
    "FWHM_RBF_lst = range(100,1001,100)\n",
    "width_lst = np.concatenate((np.linspace(0.99,0.83,8), .9 - np.logspace(-1,-0.15,15)))\n",
    "# width_lst = np.arange(0.1,1,0.05)\n",
    "for FWHM_RBF in FWHM_RBF_lst:\n",
    "    for width in width_lst:\n",
    "        e = 0\n",
    "        for raw, photo in raw_lst:\n",
    "            LS = LSQ.photo_approximation(x, -1, FWHM_RBF, len(x), width=width)\n",
    "            appr = LS(raw)            \n",
    "            e += error.MSE(appr, photo)\n",
    "            \n",
    "#             print(FWHM_RBF, width, LS.RBF.shape, e)\n",
    "#             plt.plot(appr.reshape(-1))\n",
    "#             plt.plot(raw)\n",
    "#             plt.plot(photo)\n",
    "# #             plt.ylim(0,80)\n",
    "#             plt.show()\n",
    "#             break\n",
    "        error_lst.append(e/len(raw_lst))\n",
    "\n",
    "error_lst = np.array(error_lst).reshape(len(FWHM_RBF_lst), -1)"
   ]
  },
  {
   "cell_type": "code",
   "execution_count": null,
   "id": "52148fb7",
   "metadata": {
    "scrolled": false
   },
   "outputs": [],
   "source": [
    "l = len(width_lst)\n",
    "print(np.argmin(error_lst)//l, np.argmin(error_lst)%l)\n",
    "print(FWHM_RBF_lst[np.argmin(error_lst)//l], width_lst[np.argmin(error_lst)%l])\n",
    "print(np.min(error_lst))\n",
    "\n",
    "print(\"best avg width\", width_lst[np.argmin(np.sum(error_lst, 0))])\n",
    "\n",
    "print(\"best avg width FWHM\", FWHM_RBF_lst[np.argmin(error_lst[:,np.argmin(np.sum(error_lst, 0))])], np.min(error_lst[:,np.argmin(np.sum(error_lst, 0))]))\n",
    "\n",
    "# plt.imshow(np.log(error_lst), cmap=\"gray\", vmin=np.min(np.log(error_lst)), vmax=np.max(np.log(error_lst)))\n",
    "# plt.show()\n",
    "error_show = error_lst\n",
    "X, Y = np.meshgrid(width_lst, FWHM_RBF_lst)\n",
    "Z = np.log(error_show-np.min(error_show)+1)\n",
    "# Z = np.log(error_show)\n",
    "# Z = error_show\n",
    "\n",
    "plt.rcParams['figure.figsize'] = (7.0, 7.0)\n",
    "plt.rcParams['figure.dpi'] = 100\n",
    "plt.rcParams['lines.linewidth'] = 1\n",
    "\n",
    "fig = plt.figure()\n",
    "ax = plt.axes()\n",
    "# ax.plot_surface(X, Y, Z, cmap='viridis', edgecolor='none', shade=False)\n",
    "\n",
    "# cset = ax.contourf(X, Y, Z,\n",
    "#                    zdir ='z',\n",
    "#                    offset = np.min(Z),\n",
    "#                    cmap = 'viridis')\n",
    "cset = ax.contourf(X, Y, Z, levels=100, cmap = 'viridis', vmax=6, vmin=np.min(Z))\n",
    "# cset = ax.contourf(X, Y, Z, levels=200, cmap = 'viridis')\n",
    "\n",
    "# ax.set_xlim(0,1)\n",
    "# ax.set_ylim(1000,0)\n",
    "ax.set_xlabel('width')\n",
    "ax.set_ylabel('FWHM')\n",
    "# ax.set_zlabel('MSE')\n"
   ]
  },
  {
   "cell_type": "code",
   "execution_count": 299,
   "id": "c7afdb84",
   "metadata": {},
   "outputs": [],
   "source": [
    "# for i,j in zip(*np.where(error_lst < 0.1)):\n",
    "#     print(width_lst[j], FWHM_RBF_lst[i], error_lst[i,j])"
   ]
  },
  {
   "cell_type": "code",
   "execution_count": null,
   "id": "1d9d3e81",
   "metadata": {},
   "outputs": [],
   "source": []
  }
 ],
 "metadata": {
  "kernelspec": {
   "display_name": "Python 3",
   "language": "python",
   "name": "python3"
  },
  "language_info": {
   "codemirror_mode": {
    "name": "ipython",
    "version": 3
   },
   "file_extension": ".py",
   "mimetype": "text/x-python",
   "name": "python",
   "nbconvert_exporter": "python",
   "pygments_lexer": "ipython3",
   "version": "3.8.8"
  }
 },
 "nbformat": 4,
 "nbformat_minor": 5
}
