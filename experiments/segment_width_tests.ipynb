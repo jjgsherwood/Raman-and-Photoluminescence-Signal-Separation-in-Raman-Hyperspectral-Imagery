{
 "cells": [
  {
   "cell_type": "code",
   "execution_count": 1,
   "id": "85a5e729",
   "metadata": {},
   "outputs": [
    {
     "data": {
      "text/html": [
       "<style>.container { width:98% !important; }</style>"
      ],
      "text/plain": [
       "<IPython.core.display.HTML object>"
      ]
     },
     "metadata": {},
     "output_type": "display_data"
    }
   ],
   "source": [
    "from load_modules import *\n",
    "import copy\n",
    "\n"
   ]
  },
  {
   "cell_type": "code",
   "execution_count": 2,
   "id": "178f7753",
   "metadata": {
    "scrolled": true
   },
   "outputs": [],
   "source": [
    "plt.rcParams['figure.figsize'] = (14.0, 3.0)\n",
    "plt.rcParams['figure.dpi'] = 100\n",
    "plt.rcParams['lines.linewidth'] = 1\n",
    "\n",
    "def create_exp(x):\n",
    "    return np.random.uniform(80,100)*np.exp(np.linspace(1,np.random.uniform(-1,-50),len(x))) \n",
    "\n",
    "def create_poly(x):\n",
    "    max_power = np.random.randint(3,7)\n",
    "    y = np.ones(x.shape) * np.random.uniform(20,40) + (max_power-1) * 30\n",
    "    for power in range(1, max_power):\n",
    "        y -= np.linspace(-1,1,len(x))**power * np.random.uniform(20,40)\n",
    "    return y\n",
    "\n",
    "def create_gaus(x):\n",
    "    mu = np.random.uniform(600,800) * (end-start) / steps\n",
    "    sigma = np.random.uniform(200,500)\n",
    "    return np.exp(-0.5* ((x - mu)**2 / sigma**2)) * np.random.uniform(20,40)\n",
    "\n",
    "def norm(e):\n",
    "    return (e - np.min(e)) / (np.max(e) - np.min(e))\n",
    "\n",
    "end = 2000\n",
    "start = 80\n",
    "steps = 1250\n",
    "n = end-start\n",
    "x = np.linspace(start, end, steps)\n",
    "\n",
    "\n",
    "raw_lst = []\n",
    "def create_dummy_spectra(expo=True, poly=True, gaus=True, raman=True):\n",
    "    global raw_lst\n",
    "    raw_lst = []\n",
    "    for _ in range(100):\n",
    "        photo  = np.zeros(x.shape)\n",
    "        if expo:\n",
    "            photo += create_exp(x)\n",
    "        if poly:\n",
    "            photo += create_poly(x)\n",
    "        if gaus:\n",
    "            photo += create_gaus(x)\n",
    "        photo -= min(-5, np.min(photo))\n",
    "        raw = copy.copy(photo)\n",
    "                \n",
    "        if raman:\n",
    "            for _ in range(20):\n",
    "                FWHM_spike = np.random.uniform(7,80)\n",
    "                raman_mu = int(n*np.random.uniform(0.1,0.9))\n",
    "                raw +=  np.random.uniform(5,10) * LSQ.gaussian(x, np.array([raman_mu]), np.array([FWHM_spike / (2 * np.sqrt(2 * np.log(2)))])).reshape(-1)\n",
    "            for _ in range(10):\n",
    "                FWHM_spike = np.random.uniform(7,40)\n",
    "                raman_mu = int(n*np.random.uniform(0.1,0.9))\n",
    "                raw +=  np.random.uniform(10,20) * LSQ.gaussian(x, np.array([raman_mu]), np.array([FWHM_spike / (2 * np.sqrt(2 * np.log(2)))])).reshape(-1)\n",
    "            for _ in range(6):\n",
    "                FWHM_spike = np.random.uniform(7,40)\n",
    "                raman_mu = int(n*np.random.uniform(0.1,0.9))\n",
    "                raw +=  np.random.uniform(20,80) * LSQ.gaussian(x, np.array([raman_mu]), np.array([FWHM_spike / (2 * np.sqrt(2 * np.log(2)))])).reshape(-1)\n",
    "        \n",
    "        raw += np.random.random(x.shape) * 5\n",
    "        raw_lst.append((raw, photo))\n",
    "    raw_lst = np.array(raw_lst)\n",
    "\n",
    "# create_dummy_spectra(expo=True, poly=True, gaus=True, raman=True)\n",
    "# for raw, p in raw_lst:\n",
    "#     plt.plot(x, raw)\n",
    "#     plt.plot(x,p)\n",
    "#     plt.xlim(start,end)\n",
    "#     plt.ylim(0)\n",
    "#     plt.ylabel(\"intensity (-)\")\n",
    "#     plt.xlabel(r\"wavenumbers ($cm^{-1}$)\")\n",
    "#     plt.show()"
   ]
  },
  {
   "cell_type": "code",
   "execution_count": 3,
   "id": "e3572f3c",
   "metadata": {
    "scrolled": true
   },
   "outputs": [],
   "source": [
    "create_dummy_spectra(expo=True, poly=True, gaus=True, raman=True)"
   ]
  },
  {
   "cell_type": "code",
   "execution_count": 54,
   "id": "374c2e99",
   "metadata": {
    "scrolled": false
   },
   "outputs": [
    {
     "name": "stdout",
     "output_type": "stream",
     "text": [
      "segment_width: 0.0,\t error: 7.532564575354129, \t smoothness: 0.006832856278951472, \t smoothness: -0.03150403676524898\n",
      "segment_width: 50.0,\t error: 6.475217084175045, \t smoothness: 0.005007578733661266, \t smoothness: -0.020550389063737913\n",
      "segment_width: 100.0,\t error: 5.670335964616343, \t smoothness: 0.0038768609747027714, \t smoothness: -0.01101799274949673\n",
      "segment_width: 150.0,\t error: 5.096146387255905, \t smoothness: 0.0031264220550849316, \t smoothness: -0.0071239113169738934\n",
      "segment_width: 200.0,\t error: 4.919114618656537, \t smoothness: 0.0026599572886906783, \t smoothness: -0.008637954584431602\n",
      "segment_width: 250.0,\t error: 4.864058776488498, \t smoothness: 0.0025308343216378514, \t smoothness: -0.008956599320662072\n",
      "segment_width: 300.0,\t error: 4.423326682681253, \t smoothness: 0.0024149738419688037, \t smoothness: -0.009311272850881139\n",
      "segment_width: 350.0,\t error: 4.079000785561729, \t smoothness: 0.002558989794184235, \t smoothness: -0.009592023998543529\n",
      "segment_width: 400.0,\t error: 3.8370488104907405, \t smoothness: 0.0024466433712849326, \t smoothness: -0.0076684703012998255\n",
      "segment_width: 450.0,\t error: 3.8049276947321875, \t smoothness: 0.0024167019511955727, \t smoothness: -0.00826271985038495\n",
      "segment_width: 500.0,\t error: 4.384244324211452, \t smoothness: 0.0025856491064104653, \t smoothness: -0.011622805806119447\n",
      "segment_width: 550.0,\t error: 5.057703466163033, \t smoothness: 0.0027483257814514624, \t smoothness: -0.017177923200247983\n",
      "segment_width: 600.0,\t error: 8.737319477394664, \t smoothness: 0.003721530424242356, \t smoothness: -0.006817070397922431\n",
      "segment_width: 650.0,\t error: 10.571238868557652, \t smoothness: 0.0038714944339150723, \t smoothness: -0.011708846588807043\n",
      "segment_width: 700.0,\t error: 13.952754732404784, \t smoothness: 0.00447646121963523, \t smoothness: -0.008541885500603195\n"
     ]
    }
   ],
   "source": [
    "plt.rcParams['figure.figsize'] = (14.0, 3.0)\n",
    "plt.rcParams['figure.dpi'] = 100\n",
    "plt.rcParams['lines.linewidth'] = 1\n",
    "\n",
    "error_lst = []\n",
    "error_lst2 = []\n",
    "error_lst3 = []\n",
    "\n",
    "segment_width_lst = np.linspace(0,700,15)\n",
    "# segment_width_lst = [0,450,700]\n",
    "for segment_width in segment_width_lst:\n",
    "    e = []\n",
    "    e2 = []\n",
    "    e3 = []\n",
    "    if not segment_width:\n",
    "        split = splitting.preliminary_split(x, size=x.shape[0], FWHM=400)\n",
    "    else:\n",
    "        split = splitting.split(x, size=x.shape[0], FWHM=400, segment_width=segment_width, algorithm=\"Bezier curve\")\n",
    "    for j, (raw, real_photo) in enumerate(raw_lst):\n",
    "        photo = split(raw.reshape(1,-1))\n",
    "        e += [error.MSE(photo[0], real_photo)]\n",
    "        e2 += [error.TMSGE(photo[0], real_photo)]\n",
    "        e3 += [error.MSGE(photo[0]) - error.MSGE(real_photo)]\n",
    "#         if j == 8:\n",
    "#         print(f\"j:{j} iter\")\n",
    "#         plt.plot(x, raw, label=\"raw\")\n",
    "#         plt.plot(x, photo.reshape(-1), label=\"appr\")\n",
    "#         plt.plot(x, real_photo, label=\"photo\")\n",
    "#         plt.ylim(0)\n",
    "#         plt.xlim(start, end)\n",
    "#         plt.legend()\n",
    "#         plt.show()\n",
    "    e = np.mean(e) \n",
    "    e2 = np.mean(e2)\n",
    "    e3 = np.mean(e3)\n",
    "    error_lst.append(e)\n",
    "    error_lst2.append(e2)\n",
    "    error_lst3.append(e3)\n",
    "    print(f\"segment_width: {segment_width},\\t error: {e}, \\t smoothness: {e2}, \\t smoothness: {e3}\")\n",
    "#     plt.plot(x, raw, label=\"raw\")\n",
    "#     plt.plot(x, photo.reshape(-1), label=\"appr\")\n",
    "#     plt.plot(x, real_photo, label=\"photo\")\n",
    "#     plt.ylim(0)\n",
    "#     plt.xlim(start, end)\n",
    "#     plt.legend()\n",
    "#     plt.show()\n",
    "    \n",
    "error_lst = np.array(error_lst)\n",
    "error_lst2 = np.array(error_lst2)\n",
    "error_lst3 = np.array(error_lst3)"
   ]
  },
  {
   "cell_type": "code",
   "execution_count": 58,
   "id": "34ef084e",
   "metadata": {},
   "outputs": [],
   "source": [
    "# error_lst1a = error_lst[::2]\n",
    "# error_lst1b = error_lst[1::2]\n",
    "\n",
    "# error_lst2a = error_lst2[::2]\n",
    "# error_lst2b = error_lst2[1::2]\n",
    "\n",
    "error_lst3c = np.abs(error_lst3)\n",
    "# error_lst3a = error_lst3c[::2]\n",
    "# error_lst3b = error_lst3c[1::2]\n",
    "\n",
    "error_lst1a = error_lst\n",
    "error_lst2a = error_lst2\n",
    "error_lst3a = error_lst3c"
   ]
  },
  {
   "cell_type": "code",
   "execution_count": 66,
   "id": "40aa1558",
   "metadata": {
    "scrolled": false
   },
   "outputs": [],
   "source": [
    "error_check1 = np.log(error_lst1a)\n",
    "error_check2 = np.log(error_lst2a)\n",
    "error_check3 = np.log(error_lst3a)\n",
    "# error_check1 = (error_lst1a)\n",
    "# error_check2 = (error_lst2a)\n",
    "# error_check3 = (error_lst3a)\n",
    "\n",
    "error_check1 = norm(error_check1)\n",
    "error_check2 = norm(error_check2)\n",
    "error_check3 = norm(error_check3)"
   ]
  },
  {
   "cell_type": "code",
   "execution_count": 77,
   "id": "cee99e5e",
   "metadata": {},
   "outputs": [
    {
     "data": {
      "image/png": "[encoded data removed]",
      "text/plain": [
       "<Figure size 1400x300 with 1 Axes>"
      ]
     },
     "metadata": {
      "needs_background": "light"
     },
     "output_type": "display_data"
    }
   ],
   "source": [
    "plt.plot(segment_width_lst, error_check1, label=\"MSE\")\n",
    "plt.plot(segment_width_lst, error_check2, label=\"TMSGE\")\n",
    "plt.ylim(0,1)\n",
    "plt.xlim(0,700)\n",
    "plt.legend(loc=9)\n",
    "plt.xlabel(r\"segement width in wavenumbers ($cm^{-1}$)\")\n",
    "plt.ylabel(r\"normalized error\")\n",
    "plt.show()"
   ]
  },
  {
   "cell_type": "code",
   "execution_count": null,
   "id": "30bfbbc9",
   "metadata": {},
   "outputs": [],
   "source": []
  }
 ],
 "metadata": {
  "kernelspec": {
   "display_name": "Python 3",
   "language": "python",
   "name": "python3"
  },
  "language_info": {
   "codemirror_mode": {
    "name": "ipython",
    "version": 3
   },
   "file_extension": ".py",
   "mimetype": "text/x-python",
   "name": "python",
   "nbconvert_exporter": "python",
   "pygments_lexer": "ipython3",
   "version": "3.8.8"
  }
 },
 "nbformat": 4,
 "nbformat_minor": 5
}
