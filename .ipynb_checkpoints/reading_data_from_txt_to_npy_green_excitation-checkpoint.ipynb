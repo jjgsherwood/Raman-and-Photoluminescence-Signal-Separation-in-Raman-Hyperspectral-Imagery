{
 "cells": [
  {
   "cell_type": "code",
   "execution_count": 38,
   "metadata": {},
   "outputs": [],
   "source": [
    "import numpy as np\n",
    "import pandas as pd\n",
    "import matplotlib.pyplot as plt\n",
    "import os"
   ]
  },
  {
   "cell_type": "code",
   "execution_count": 39,
   "metadata": {},
   "outputs": [],
   "source": [
    "# checking algorithm from the .py\n",
    "file = 'ML-MoS2-532-LP10-2-3-50X.txt'\n",
    "location = '../data/Green_excitation/'"
   ]
  },
  {
   "cell_type": "code",
   "execution_count": 40,
   "metadata": {},
   "outputs": [
    {
     "name": "stdout",
     "output_type": "stream",
     "text": [
      "(12, 32, 5019)\n"
     ]
    }
   ],
   "source": [
    "df = pd.read_csv(location + file, delimiter='\\t', skipinitialspace=True, header=None, skiprows=[])\n",
    "wavelength = df.iloc[0].to_numpy()[2:]\n",
    "data = df.iloc[1:].to_numpy()\n",
    "\n",
    "X = list(np.unique(data[:,0]))\n",
    "Y = list(np.unique(data[:,1]))\n",
    "\n",
    "img = np.empty((len(X), len(Y), len(wavelength)), dtype=np.float64)\n",
    "\n",
    "for d in data:\n",
    "    i = X.index(d[0])\n",
    "    j = Y.index(d[1])\n",
    "    img[i,j,:] = d[2:]\n",
    "print(img.shape)"
   ]
  },
  {
   "cell_type": "code",
   "execution_count": 42,
   "metadata": {},
   "outputs": [],
   "source": [
    "try:\n",
    "    os.mkdir(f'{location}raw_npy/')\n",
    "except FileExistsError:\n",
    "    pass\n",
    "np.save(f'{location}raw_npy/{file.split(\".\")[0]}', img) "
   ]
  },
  {
   "cell_type": "code",
   "execution_count": 43,
   "metadata": {},
   "outputs": [],
   "source": [
    "np.save(f'{location}raw_npy/wavelength.npy', wavelength) "
   ]
  },
  {
   "cell_type": "code",
   "execution_count": null,
   "metadata": {},
   "outputs": [],
   "source": []
  }
 ],
 "metadata": {
  "kernelspec": {
   "display_name": "Python 3",
   "language": "python",
   "name": "python3"
  },
  "language_info": {
   "codemirror_mode": {
    "name": "ipython",
    "version": 3
   },
   "file_extension": ".py",
   "mimetype": "text/x-python",
   "name": "python",
   "nbconvert_exporter": "python",
   "pygments_lexer": "ipython3",
   "version": "3.8.8"
  }
 },
 "nbformat": 4,
 "nbformat_minor": 4
}
