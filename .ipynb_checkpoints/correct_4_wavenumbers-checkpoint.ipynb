{
 "cells": [
  {
   "cell_type": "code",
   "execution_count": 1,
   "metadata": {},
   "outputs": [],
   "source": [
    "from scipy import interpolate\n",
    "import numpy as np\n",
    "import copy\n",
    "import pickle\n",
    "import matplotlib.pyplot as plt\n",
    "import os\n",
    "\n",
    "plt.rcParams['figure.figsize'] = (40.0, 20.0)"
   ]
  },
  {
   "cell_type": "code",
   "execution_count": 19,
   "metadata": {},
   "outputs": [],
   "source": [
    "# file_location = \"../data/Raman_Mouse/CRN_saturation_removed/\"\n",
    "file_location = \"../data/Green_excitation/CRN_saturation_removed/\"\n",
    "\n",
    "filenames = np.load(f\"{file_location}FileNames.npy\")\n",
    "\n",
    "data = []\n",
    "wavelength = []\n",
    "for f in filenames:\n",
    "    wavelength.append(np.load(f\"{file_location}{f.split('.')[0]}_wavelength.npy\"))\n",
    "    data.append(np.load(f\"{file_location}{f}\"))\n",
    "data = np.array(data)\n",
    "wavelength = np.array(wavelength)"
   ]
  },
  {
   "cell_type": "code",
   "execution_count": 20,
   "metadata": {},
   "outputs": [
    {
     "name": "stdout",
     "output_type": "stream",
     "text": [
      "The min wavelength in all the data is 300.243 and the maximum 6299.27\n",
      "To have a larger certainty when doing the interpolation the min and maximum are chosen to be 95 and 2045 with a step size of 1.5\n"
     ]
    }
   ],
   "source": [
    "print(f\"The min wavelength in all the data is {np.min(wavelength)} and the maximum {np.max(wavelength)}\")\n",
    "print(f\"To have a larger certainty when doing the interpolation the min and maximum are chosen to be 95 and 2045 with a step size of 1.5\")"
   ]
  },
  {
   "cell_type": "code",
   "execution_count": 24,
   "metadata": {},
   "outputs": [
    {
     "name": "stdout",
     "output_type": "stream",
     "text": [
      "image 1 done\n"
     ]
    }
   ],
   "source": [
    "# # wavelengths for raman mouse\n",
    "# new_wavelengths = np.arange(95, 2045, 1.5)\n",
    "# wavelengths for green excitation\n",
    "new_wavelengths = np.arange(300, 6300, 0.8)\n",
    "\n",
    "new_data = np.empty((*data.shape[:3], len(new_wavelengths)))\n",
    "for i, (wavenumbers, img) in enumerate(zip(wavelength, data)):\n",
    "    for x in range(img.shape[0]):\n",
    "        for y in range(img.shape[1]):\n",
    "            f = interpolate.interp1d(wavenumbers, img[x,y], kind='cubic', bounds_error=False)\n",
    "            new_data[i,x,y,:] = f(new_wavelengths)\n",
    "    print(f\"image {i+1} done\")"
   ]
  },
  {
   "cell_type": "code",
   "execution_count": 25,
   "metadata": {},
   "outputs": [],
   "source": [
    "file_location2 = f\"{'/'.join(file_location.split('/')[:-2])}/corrected_4_wavenumbers/\"\n",
    "os.makedirs(file_location2, exist_ok=True)\n",
    "\n",
    "for i,f in enumerate(filenames):\n",
    "    np.save(f'{file_location2}{f.split(\"/\")[-1].split(\".\")[0]}', new_data[i])"
   ]
  },
  {
   "cell_type": "code",
   "execution_count": 26,
   "metadata": {},
   "outputs": [],
   "source": [
    "np.save(f'{file_location2}Wavenumbers', new_wavelengths)  \n",
    "np.save(f'{file_location2}FileNames', filenames)  \n"
   ]
  },
  {
   "cell_type": "code",
   "execution_count": null,
   "metadata": {},
   "outputs": [],
   "source": []
  },
  {
   "cell_type": "code",
   "execution_count": null,
   "metadata": {},
   "outputs": [],
   "source": []
  }
 ],
 "metadata": {
  "kernelspec": {
   "display_name": "Python 3",
   "language": "python",
   "name": "python3"
  },
  "language_info": {
   "codemirror_mode": {
    "name": "ipython",
    "version": 3
   },
   "file_extension": ".py",
   "mimetype": "text/x-python",
   "name": "python",
   "nbconvert_exporter": "python",
   "pygments_lexer": "ipython3",
   "version": "3.7.6"
  }
 },
 "nbformat": 4,
 "nbformat_minor": 5
}
