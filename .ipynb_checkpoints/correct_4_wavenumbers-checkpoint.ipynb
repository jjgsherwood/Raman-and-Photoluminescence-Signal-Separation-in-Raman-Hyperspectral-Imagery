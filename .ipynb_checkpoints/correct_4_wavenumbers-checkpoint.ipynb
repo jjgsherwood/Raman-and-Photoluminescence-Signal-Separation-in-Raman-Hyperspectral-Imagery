{
 "cells": [
  {
   "cell_type": "code",
   "execution_count": 27,
   "id": "a6d48223",
   "metadata": {},
   "outputs": [],
   "source": [
    "from scipy import interpolate\n",
    "import numpy as np\n",
    "import copy\n",
    "import pickle\n",
    "import matplotlib.pyplot as plt\n",
    "\n",
    "plt.rcParams['figure.figsize'] = (40.0, 20.0)"
   ]
  },
  {
   "cell_type": "code",
   "execution_count": 28,
   "id": "0ec0f2ca",
   "metadata": {},
   "outputs": [],
   "source": [
    "file_location = \"../data/Raman_Mouse/CRN_saturation_removed/\"\n",
    "filenames = np.load(f\"{file_location}FileNames.npy\")\n",
    "\n",
    "data = []\n",
    "wavelength = []\n",
    "for f in filenames:\n",
    "    wavelength.append(np.load(f\"{file_location}{f.split('.')[0]}_wavelength.npy\"))\n",
    "    data.append(np.load(f\"{file_location}{f}\"))\n",
    "data = np.array(data)\n",
    "wavelength = np.array(wavelength)"
   ]
  },
  {
   "cell_type": "code",
   "execution_count": 29,
   "id": "14b17def",
   "metadata": {},
   "outputs": [
    {
     "name": "stdout",
     "output_type": "stream",
     "text": [
      "The min wavelength in all the data is 90.212891 and the maximum 2046.491211\n",
      "To have a larger certainty when doing the interpolation the min and maximum are chosen to be 95 and 2045 with a step size of 1.5\n"
     ]
    }
   ],
   "source": [
    "print(f\"The min wavelength in all the data is {np.min(wavelength)} and the maximum {np.max(wavelength)}\")\n",
    "print(f\"To have a larger certainty when doing the interpolation the min and maximum are chosen to be 95 and 2045 with a step size of 1.5\")"
   ]
  },
  {
   "cell_type": "code",
   "execution_count": 23,
   "id": "ef4f961e",
   "metadata": {},
   "outputs": [
    {
     "name": "stdout",
     "output_type": "stream",
     "text": [
      "image 1 done\n",
      "image 2 done\n",
      "image 3 done\n",
      "image 4 done\n",
      "image 5 done\n",
      "image 6 done\n",
      "image 7 done\n",
      "image 8 done\n",
      "image 9 done\n",
      "image 10 done\n",
      "image 11 done\n",
      "image 12 done\n",
      "image 13 done\n",
      "image 14 done\n",
      "image 15 done\n",
      "image 16 done\n",
      "image 17 done\n",
      "image 18 done\n",
      "image 19 done\n",
      "image 20 done\n",
      "image 21 done\n",
      "image 22 done\n",
      "image 23 done\n",
      "image 24 done\n",
      "image 25 done\n",
      "image 26 done\n",
      "image 27 done\n",
      "image 28 done\n",
      "image 29 done\n",
      "image 30 done\n",
      "image 31 done\n",
      "image 32 done\n",
      "image 33 done\n",
      "image 34 done\n",
      "image 35 done\n",
      "image 36 done\n",
      "image 37 done\n",
      "image 38 done\n",
      "image 39 done\n",
      "image 40 done\n",
      "image 41 done\n",
      "image 42 done\n",
      "image 43 done\n",
      "image 44 done\n",
      "image 45 done\n",
      "image 46 done\n",
      "image 47 done\n",
      "image 48 done\n",
      "image 49 done\n",
      "image 50 done\n",
      "image 51 done\n"
     ]
    }
   ],
   "source": [
    "new_wavelengths = np.arange(95, 2045, 1.5)\n",
    "\n",
    "new_data = np.empty((*data.shape[:3], len(new_wavelengths)))\n",
    "for i, (wavenumbers, img) in enumerate(zip(wavelength, data)):\n",
    "    for x in range(img.shape[0]):\n",
    "        for y in range(img.shape[1]):\n",
    "            f = interpolate.interp1d(wavenumbers, img[x,y], kind='cubic')\n",
    "            new_data[i,x,y,:] = f(new_wavelengths)\n",
    "    print(f\"image {i+1} done\")"
   ]
  },
  {
   "cell_type": "code",
   "execution_count": 25,
   "id": "854cb932",
   "metadata": {},
   "outputs": [],
   "source": [
    "file_location2 = \"../data/Raman_Mouse/corrected_4_wavenumbers/\"\n",
    "for i,f in enumerate(filenames):\n",
    "    np.save(f'{file_location2}{f.split(\"/\")[-1].split(\".\")[0]}', new_data[i])"
   ]
  },
  {
   "cell_type": "code",
   "execution_count": 30,
   "id": "2602fc2f",
   "metadata": {},
   "outputs": [],
   "source": [
    "np.save(f'{file_location2}Wavenumbers', new_wavelengths)  \n",
    "np.save(f'{file_location2}FileNames', filenames)  \n"
   ]
  },
  {
   "cell_type": "code",
   "execution_count": null,
   "id": "de469fa0",
   "metadata": {},
   "outputs": [],
   "source": []
  }
 ],
 "metadata": {
  "kernelspec": {
   "display_name": "Python 3",
   "language": "python",
   "name": "python3"
  },
  "language_info": {
   "codemirror_mode": {
    "name": "ipython",
    "version": 3
   },
   "file_extension": ".py",
   "mimetype": "text/x-python",
   "name": "python",
   "nbconvert_exporter": "python",
   "pygments_lexer": "ipython3",
   "version": "3.8.8"
  }
 },
 "nbformat": 4,
 "nbformat_minor": 5
}
