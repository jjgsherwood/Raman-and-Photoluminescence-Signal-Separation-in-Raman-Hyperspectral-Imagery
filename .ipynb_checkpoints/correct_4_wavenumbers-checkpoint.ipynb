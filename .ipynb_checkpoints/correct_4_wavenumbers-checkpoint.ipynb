{
 "cells": [
  {
   "cell_type": "code",
   "execution_count": 1,
   "id": "f2d9d66b",
   "metadata": {},
   "outputs": [
    {
     "data": {
      "text/html": [
       "<style>.container { width:98% !important; }</style>"
      ],
      "text/plain": [
       "<IPython.core.display.HTML object>"
      ]
     },
     "metadata": {},
     "output_type": "display_data"
    }
   ],
   "source": [
    "from scipy import interpolate\n",
    "import numpy as np\n",
    "import copy\n",
    "import pickle\n",
    "import matplotlib.pyplot as plt\n",
    "import os\n",
    "from signal_processing import WavenumberCorrection as WaveC\n",
    "import timeit\n",
    "\n",
    "plt.rcParams['figure.figsize'] = (20.0, 3.0)\n",
    "plt.rcParams['figure.dpi'] = 1000\n",
    "\n",
    "from IPython.display import display, HTML\n",
    "display(HTML(\"<style>.container { width:98% !important; }</style>\"))"
   ]
  },
  {
   "cell_type": "code",
   "execution_count": 2,
   "id": "837bdbf1",
   "metadata": {},
   "outputs": [
    {
     "name": "stdout",
     "output_type": "stream",
     "text": [
      "(51, 1000)\n"
     ]
    }
   ],
   "source": [
    "file_location = \"../data/Raman_Mouse/raw_npy/\"\n",
    "# file_location = \"../data/Green_excitation/CRN_saturation_removed/\"\n",
    "\n",
    "filenames = np.load(f\"{file_location}FileNames.npy\")\n",
    "\n",
    "data = []\n",
    "wavenumbers = []\n",
    "for f in filenames:\n",
    "    wavenumbers.append(np.load(f\"{file_location}{f.split('.')[0]}_wavelength.npy\"))\n",
    "    data.append(np.load(f\"{file_location}{f}\"))\n",
    "data = np.array(data)\n",
    "wavenumbers = np.array(wavenumbers)\n",
    "print(wavenumbers.shape)"
   ]
  },
  {
   "cell_type": "code",
   "execution_count": 3,
   "id": "c768175f",
   "metadata": {},
   "outputs": [
    {
     "name": "stdout",
     "output_type": "stream",
     "text": [
      "The min wavelength in all the data is 90.212891 and the maximum 2046.491211\n",
      "The min wavelength that exist for each image is 91.71582 and the maximum 2045.098633\n",
      "The min delta wavelength (stepsize) is 1.5595700000001216\n",
      "To have a larger certainty when doing the interpolation the min and maximum are chosen to be 95 and 2045 with a step size of 1.5\n"
     ]
    }
   ],
   "source": [
    "print(f\"The min wavelength in all the data is {np.min(wavenumbers)} and the maximum {np.max(wavenumbers)}\")\n",
    "print(f\"The min wavelength that exist for each image is {np.max(np.min(wavenumbers, 1))} and the maximum {np.min(np.max(wavenumbers, 1))}\")\n",
    "print(f\"The min delta wavelength (stepsize) is {np.min(wavenumbers[:,1:] - wavenumbers[:,:-1])}\")\n",
    "print(f\"To have a larger certainty when doing the interpolation the min and maximum are chosen to be 95 and 2045 with a step size of 1.5\")"
   ]
  },
  {
   "cell_type": "code",
   "execution_count": 4,
   "id": "55cabf7d",
   "metadata": {},
   "outputs": [
    {
     "name": "stdout",
     "output_type": "stream",
     "text": [
      "Time:  6.388585102999059\n"
     ]
    }
   ],
   "source": [
    "start = timeit.default_timer()\n",
    "new_data, new_wavenumbers = WaveC.correct_wavenumbers_within_samples(data, wavenumbers)\n",
    "stop = timeit.default_timer()\n",
    "print('Time: ', stop - start)"
   ]
  },
  {
   "cell_type": "code",
   "execution_count": 5,
   "id": "1e75ea30",
   "metadata": {
    "scrolled": false
   },
   "outputs": [
    {
     "ename": "TypeError",
     "evalue": "list indices must be integers or slices, not tuple",
     "output_type": "error",
     "traceback": [
      "\u001b[0;31m---------------------------------------------------------------------------\u001b[0m",
      "\u001b[0;31mTypeError\u001b[0m                                 Traceback (most recent call last)",
      "\u001b[0;32m<ipython-input-5-cf394a736ef6>\u001b[0m in \u001b[0;36m<module>\u001b[0;34m\u001b[0m\n\u001b[1;32m      1\u001b[0m \u001b[0mn\u001b[0m\u001b[0;34m,\u001b[0m\u001b[0mx\u001b[0m\u001b[0;34m,\u001b[0m\u001b[0my\u001b[0m \u001b[0;34m=\u001b[0m \u001b[0;36m43\u001b[0m\u001b[0;34m,\u001b[0m\u001b[0;36m0\u001b[0m\u001b[0;34m,\u001b[0m\u001b[0;36m0\u001b[0m\u001b[0;34m\u001b[0m\u001b[0;34m\u001b[0m\u001b[0m\n\u001b[0;32m----> 2\u001b[0;31m \u001b[0mplt\u001b[0m\u001b[0;34m.\u001b[0m\u001b[0mplot\u001b[0m\u001b[0;34m(\u001b[0m\u001b[0mnew_wavenumbers\u001b[0m\u001b[0;34m,\u001b[0m \u001b[0mnew_data\u001b[0m\u001b[0;34m[\u001b[0m\u001b[0mn\u001b[0m\u001b[0;34m,\u001b[0m\u001b[0mx\u001b[0m\u001b[0;34m,\u001b[0m\u001b[0my\u001b[0m\u001b[0;34m]\u001b[0m\u001b[0;34m,\u001b[0m \u001b[0mlinewidth\u001b[0m\u001b[0;34m=\u001b[0m\u001b[0;36m.3\u001b[0m\u001b[0;34m)\u001b[0m\u001b[0;34m\u001b[0m\u001b[0;34m\u001b[0m\u001b[0m\n\u001b[0m\u001b[1;32m      3\u001b[0m \u001b[0mplt\u001b[0m\u001b[0;34m.\u001b[0m\u001b[0mplot\u001b[0m\u001b[0;34m(\u001b[0m\u001b[0mwavenumbers\u001b[0m\u001b[0;34m[\u001b[0m\u001b[0mn\u001b[0m\u001b[0;34m]\u001b[0m\u001b[0;34m,\u001b[0m \u001b[0mdata\u001b[0m\u001b[0;34m[\u001b[0m\u001b[0mn\u001b[0m\u001b[0;34m,\u001b[0m\u001b[0mx\u001b[0m\u001b[0;34m,\u001b[0m\u001b[0my\u001b[0m\u001b[0;34m]\u001b[0m\u001b[0;34m,\u001b[0m \u001b[0malpha\u001b[0m\u001b[0;34m=\u001b[0m\u001b[0;36m0.5\u001b[0m\u001b[0;34m,\u001b[0m \u001b[0mlinewidth\u001b[0m\u001b[0;34m=\u001b[0m\u001b[0;36m.3\u001b[0m\u001b[0;34m)\u001b[0m\u001b[0;34m\u001b[0m\u001b[0;34m\u001b[0m\u001b[0m\n\u001b[1;32m      4\u001b[0m \u001b[0mplt\u001b[0m\u001b[0;34m.\u001b[0m\u001b[0mshow\u001b[0m\u001b[0;34m(\u001b[0m\u001b[0;34m)\u001b[0m\u001b[0;34m\u001b[0m\u001b[0;34m\u001b[0m\u001b[0m\n",
      "\u001b[0;31mTypeError\u001b[0m: list indices must be integers or slices, not tuple"
     ]
    }
   ],
   "source": [
    "n,x,y = 43,0,0\n",
    "plt.plot(new_wavenumbers, new_data[n,x,y], linewidth=.3)\n",
    "plt.plot(wavenumbers[n], data[n,x,y], alpha=0.5, linewidth=.3)\n",
    "plt.show()"
   ]
  },
  {
   "cell_type": "code",
   "execution_count": null,
   "id": "56c736a5",
   "metadata": {},
   "outputs": [],
   "source": [
    "# file_location2 = f\"{'/'.join(file_location.split('/')[:-2])}/corrected_4_wavenumbers/\"\n",
    "# os.makedirs(file_location2, exist_ok=True)\n",
    "\n",
    "# for i,f in enumerate(filenames):\n",
    "#     np.save(f'{file_location2}{f.split(\"/\")[-1].split(\".\")[0]}', new_data[i])"
   ]
  },
  {
   "cell_type": "code",
   "execution_count": null,
   "id": "5a1ee5bb",
   "metadata": {},
   "outputs": [],
   "source": [
    "# np.save(f'{file_location2}Wavenumbers', new_wavenumbers)  \n",
    "# np.save(f'{file_location2}FileNames', filenames)  \n"
   ]
  },
  {
   "cell_type": "code",
   "execution_count": null,
   "id": "7e6fa79f",
   "metadata": {},
   "outputs": [],
   "source": []
  },
  {
   "cell_type": "code",
   "execution_count": null,
   "id": "2dd60735",
   "metadata": {},
   "outputs": [],
   "source": []
  }
 ],
 "metadata": {
  "kernelspec": {
   "display_name": "Python 3",
   "language": "python",
   "name": "python3"
  },
  "language_info": {
   "codemirror_mode": {
    "name": "ipython",
    "version": 3
   },
   "file_extension": ".py",
   "mimetype": "text/x-python",
   "name": "python",
   "nbconvert_exporter": "python",
   "pygments_lexer": "ipython3",
   "version": "3.8.8"
  }
 },
 "nbformat": 4,
 "nbformat_minor": 5
}
