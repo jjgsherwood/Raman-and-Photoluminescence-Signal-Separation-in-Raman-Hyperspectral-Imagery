{
 "cells": [
  {
   "cell_type": "code",
   "execution_count": 5,
   "id": "fbcafe16",
   "metadata": {},
   "outputs": [],
   "source": [
    "import numpy as np\n",
    "import copy\n",
    "import pickle\n",
    "import matplotlib.pyplot as plt\n",
    "import preprocessing.GSP as GSP\n",
    "\n",
    "plt.rcParams['figure.figsize'] = (40.0, 20.0)"
   ]
  },
  {
   "cell_type": "code",
   "execution_count": 3,
   "id": "92b051bf",
   "metadata": {},
   "outputs": [],
   "source": [
    "file_location = \"../data/Raman_Mouse/corrected_4_wavenumbers/\"\n",
    "filenames = np.load(f\"{file_location}FileNames.npy\")\n",
    "wavenumbers = np.load(f\"{file_location}Wavenumbers.npy\")\n",
    "\n",
    "data = []\n",
    "for f in filenames:\n",
    "    data.append(np.load(f\"{file_location}{f}\"))\n",
    "data = np.array(data)\n"
   ]
  },
  {
   "cell_type": "code",
   "execution_count": 7,
   "id": "40ea62f3",
   "metadata": {},
   "outputs": [
    {
     "name": "stdout",
     "output_type": "stream",
     "text": [
      "image: Liver_map_150z25_60s_#12.npy is done.\n",
      "image: Muscle_map_150z25_60s_#34.npy is done.\n",
      "image: Kidney_map_150z25_60s_#45.npy is done.\n",
      "image: Kidney_map_150z25_60s_#43.npy is done.\n",
      "image: Liver_map_150x25_60s_#13.npy is done.\n",
      "image: Muscle_map_150z25_60s_#27.npy is done.\n",
      "image: Kidney_map_150z25_60s_#39.npy is done.\n",
      "image: Liver_map_150z25_60s_#2.npy is done.\n",
      "image: Muscle_map_150z25_60s_#19.npy is done.\n",
      "image: Liver_map_150z25_60s_#01.npy is done.\n",
      "image: Liver_map_150z25_60s_#03.npy is done.\n",
      "image: Muscle_map_150z25_60s_#25.npy is done.\n",
      "image: Kidney_map_150z25_60s_#36.npy is done.\n",
      "image: Liver_map_150x25_60s_#9.npy is done.\n",
      "image: Liver_map_150z25_60s_#8.npy is done.\n",
      "image: Muscle_map_150z25_60s_#20.npy is done.\n",
      "image: Kidney_map_150z25_60s_#47.npy is done.\n",
      "image: Liver_map_150z25_60s_#15.npy is done.\n",
      "image: Muscle_map_150z25_60s_#30.npy is done.\n",
      "image: Muscle_map_150z25_60s_#21.npy is done.\n",
      "image: Muscle_map_150z25_60s_#32.npy is done.\n",
      "image: Liver_map_150z25_60s_#14.npy is done.\n",
      "image: Liver_map_150z25_60s_#6.npy is done.\n",
      "image: Kidney_map_150z25_60s_#37.npy is done.\n",
      "image: Muscle_map_150z25_60s_#22.npy is done.\n",
      "image: Muscle_map_150z25_60s_#24.npy is done.\n",
      "image: Muscle_map_150z25_60s_#28.npy is done.\n",
      "image: Kidney_map_150z25_60s_#40.npy is done.\n",
      "image: Kidney_map_150z25_60s_#38.npy is done.\n",
      "image: Muscle_map_150z25_60s_#18.npy is done.\n",
      "image: Muscle_map_150z25_60s_#29.npy is done.\n",
      "image: Muscle_map_150z25_60s_#33.npy is done.\n",
      "image: Kidney_map_150z25_60s_#51.npy is done.\n",
      "image: Muscle_map_150z25_60s_#31.npy is done.\n",
      "image: Liver_map_150z25_60s_#11.npy is done.\n",
      "image: Liver_map_150z25_60s_#17.npy is done.\n",
      "image: Liver_map_150x25_60s_#7.npy is done.\n",
      "image: Kidney_map_150z25_60s_#50.npy is done.\n",
      "image: Kidney_map_150z25_60s_#44.npy is done.\n",
      "image: Liver_map_150x25_60s_#10.npy is done.\n",
      "image: Muscle_map_150z25_60s_#23.npy is done.\n",
      "image: Kidney_map_150z25_60s_#48.npy is done.\n",
      "image: Kidney_map_150z25_60s_#42.npy is done.\n",
      "image: Muscle_map_150z25_60s_#26.npy is done.\n",
      "image: Liver_map_150z25_60s_#16.npy is done.\n",
      "image: Liver_map_150z25_60s_#05.npy is done.\n",
      "image: Kidney_map_150z25_60s_#49.npy is done.\n",
      "image: Kidney_map_150z25_60s_#46.npy is done.\n",
      "image: Kidney_map_150z25_60s_#41.npy is done.\n",
      "image: Liver_map_150z25_60s_#4.npy is done.\n",
      "image: Kidney_map_150z25_60s_#35.npy is done.\n"
     ]
    }
   ],
   "source": [
    "file_location2 = \"../data/Raman_Mouse/preprocess/\"\n",
    "shape = data[0].shape\n",
    "\n",
    "for f, img in zip(filenames, data):\n",
    "    tmp = copy.copy(img.reshape(-1, img.shape[-1]))\n",
    "    tmp1, tmp2 = GSP.split_Raman_af(GSP.smoothing(tmp, smooth=5, transition=10, spike_width=15), wavenumbers, 7)\n",
    "    \n",
    "    np.save(f'{file_location2}{f.split(\"/\")[-1].split(\".\")[0]}_raman', tmp1.reshape(shape))\n",
    "    np.save(f'{file_location2}{f.split(\"/\")[-1].split(\".\")[0]}_photoluminescence', tmp2.reshape(shape))\n",
    "    print(f\"image: {f} is done.\")"
   ]
  },
  {
   "cell_type": "code",
   "execution_count": 8,
   "id": "c0f27a9d",
   "metadata": {},
   "outputs": [],
   "source": [
    "np.save(f'{file_location2}Wavenumbers', wavenumbers)  \n",
    "np.save(f'{file_location2}FileNames', filenames)  "
   ]
  },
  {
   "cell_type": "code",
   "execution_count": null,
   "id": "01ba7d30",
   "metadata": {},
   "outputs": [],
   "source": []
  }
 ],
 "metadata": {
  "kernelspec": {
   "display_name": "Python 3",
   "language": "python",
   "name": "python3"
  },
  "language_info": {
   "codemirror_mode": {
    "name": "ipython",
    "version": 3
   },
   "file_extension": ".py",
   "mimetype": "text/x-python",
   "name": "python",
   "nbconvert_exporter": "python",
   "pygments_lexer": "ipython3",
   "version": "3.8.8"
  }
 },
 "nbformat": 4,
 "nbformat_minor": 5
}
